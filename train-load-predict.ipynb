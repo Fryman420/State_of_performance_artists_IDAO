{
 "cells": [
  {
   "cell_type": "code",
   "execution_count": 34,
   "id": "b93dd572",
   "metadata": {
    "cellId": "qdpacdw6qvfsp5yl6ch66"
   },
   "outputs": [
    {
     "name": "stdout",
     "output_type": "stream",
     "text": [
      "Defaulting to user installation because normal site-packages is not writeable\n",
      "Requirement already satisfied: alignn in /home/jupyter/.local/lib/python3.8/site-packages (2022.1.25)\n",
      "Requirement already satisfied: dgl-cu111 in /home/jupyter/.local/lib/python3.8/site-packages (0.6.1)\n",
      "Requirement already satisfied: tqdm>=4.60.0 in /home/jupyter/.local/lib/python3.8/site-packages (from alignn) (4.62.3)\n",
      "Requirement already satisfied: jarvis-tools>=2021.07.19 in /home/jupyter/.local/lib/python3.8/site-packages (from alignn) (2022.1.10)\n",
      "Requirement already satisfied: dgl>=0.6.0 in /home/jupyter/.local/lib/python3.8/site-packages (from alignn) (0.6.1)\n",
      "Requirement already satisfied: flake8>=3.9.1 in /home/jupyter/.local/lib/python3.8/site-packages (from alignn) (4.0.1)\n",
      "Requirement already satisfied: pyparsing<3,>=2.2.1 in /kernel/lib/python3.8/site-packages (from alignn) (2.4.7)\n",
      "Requirement already satisfied: pandas>=1.2.3 in /home/jupyter/.local/lib/python3.8/site-packages (from alignn) (1.4.1)\n",
      "Requirement already satisfied: scipy>=1.6.1 in /home/jupyter/.local/lib/python3.8/site-packages (from alignn) (1.8.0)\n",
      "Requirement already satisfied: pytorch-ignite>=0.4.7 in /home/jupyter/.local/lib/python3.8/site-packages (from alignn) (0.4.8)\n",
      "Requirement already satisfied: scikit-learn>=0.22.2 in /home/jupyter/.local/lib/python3.8/site-packages (from alignn) (1.0.2)\n",
      "Requirement already satisfied: pydocstyle>=6.0.0 in /home/jupyter/.local/lib/python3.8/site-packages (from alignn) (6.1.1)\n",
      "Requirement already satisfied: pydantic>=1.8.1 in /usr/local/lib/python3.8/dist-packages (from alignn) (1.8.2)\n",
      "Requirement already satisfied: numpy>=1.19.5 in /home/jupyter/.local/lib/python3.8/site-packages (from alignn) (1.22.2)\n",
      "Requirement already satisfied: pycodestyle>=2.7.0 in /home/jupyter/.local/lib/python3.8/site-packages (from alignn) (2.8.0)\n",
      "Requirement already satisfied: matplotlib>=3.4.1 in /home/jupyter/.local/lib/python3.8/site-packages (from alignn) (3.5.1)\n",
      "Requirement already satisfied: torch>=1.7.1 in /usr/local/lib/python3.8/dist-packages (from alignn) (1.9.1+cu111)\n",
      "Requirement already satisfied: networkx>=2.1 in /usr/local/lib/python3.8/dist-packages (from dgl-cu111) (2.4)\n",
      "Requirement already satisfied: requests>=2.19.0 in /kernel/lib/python3.8/site-packages (from dgl-cu111) (2.25.1)\n",
      "Requirement already satisfied: mccabe<0.7.0,>=0.6.0 in /home/jupyter/.local/lib/python3.8/site-packages (from flake8>=3.9.1->alignn) (0.6.1)\n",
      "Requirement already satisfied: pyflakes<2.5.0,>=2.4.0 in /home/jupyter/.local/lib/python3.8/site-packages (from flake8>=3.9.1->alignn) (2.4.0)\n",
      "Requirement already satisfied: spglib>=1.14.1 in /home/jupyter/.local/lib/python3.8/site-packages (from jarvis-tools>=2021.07.19->alignn) (1.16.3)\n",
      "Requirement already satisfied: xmltodict>=0.11.0 in /usr/local/lib/python3.8/dist-packages (from jarvis-tools>=2021.07.19->alignn) (0.12.0)\n",
      "Requirement already satisfied: toolz>=0.9.0 in /home/jupyter/.local/lib/python3.8/site-packages (from jarvis-tools>=2021.07.19->alignn) (0.11.2)\n",
      "Requirement already satisfied: joblib>=0.14.1 in /usr/local/lib/python3.8/dist-packages (from jarvis-tools>=2021.07.19->alignn) (1.1.0)\n",
      "Requirement already satisfied: kiwisolver>=1.0.1 in /kernel/lib/python3.8/site-packages (from matplotlib>=3.4.1->alignn) (1.3.2)\n",
      "Requirement already satisfied: packaging>=20.0 in /kernel/lib/python3.8/site-packages (from matplotlib>=3.4.1->alignn) (20.9)\n",
      "Requirement already satisfied: pillow>=6.2.0 in /kernel/lib/python3.8/site-packages (from matplotlib>=3.4.1->alignn) (9.0.0)\n",
      "Requirement already satisfied: python-dateutil>=2.7 in /kernel/lib/python3.8/site-packages (from matplotlib>=3.4.1->alignn) (2.8.2)\n",
      "Requirement already satisfied: fonttools>=4.22.0 in /home/jupyter/.local/lib/python3.8/site-packages (from matplotlib>=3.4.1->alignn) (4.29.1)\n",
      "Requirement already satisfied: cycler>=0.10 in /kernel/lib/python3.8/site-packages (from matplotlib>=3.4.1->alignn) (0.11.0)\n",
      "Requirement already satisfied: decorator>=4.3.0 in /kernel/lib/python3.8/site-packages (from networkx>=2.1->dgl-cu111) (5.1.1)\n",
      "Requirement already satisfied: pytz>=2020.1 in /usr/local/lib/python3.8/dist-packages (from pandas>=1.2.3->alignn) (2021.3)\n",
      "Requirement already satisfied: typing-extensions>=3.7.4.3 in /usr/local/lib/python3.8/dist-packages (from pydantic>=1.8.1->alignn) (3.7.4.3)\n",
      "Requirement already satisfied: snowballstemmer in /home/jupyter/.local/lib/python3.8/site-packages (from pydocstyle>=6.0.0->alignn) (2.2.0)\n",
      "Requirement already satisfied: certifi>=2017.4.17 in /kernel/lib/python3.8/site-packages (from requests>=2.19.0->dgl-cu111) (2021.10.8)\n",
      "Requirement already satisfied: idna<3,>=2.5 in /kernel/lib/python3.8/site-packages (from requests>=2.19.0->dgl-cu111) (2.10)\n",
      "Requirement already satisfied: urllib3<1.27,>=1.21.1 in /kernel/lib/python3.8/site-packages (from requests>=2.19.0->dgl-cu111) (1.26.8)\n",
      "Requirement already satisfied: chardet<5,>=3.0.2 in /kernel/lib/python3.8/site-packages (from requests>=2.19.0->dgl-cu111) (4.0.0)\n",
      "Requirement already satisfied: threadpoolctl>=2.0.0 in /home/jupyter/.local/lib/python3.8/site-packages (from scikit-learn>=0.22.2->alignn) (3.1.0)\n",
      "Requirement already satisfied: six>=1.5 in /kernel/lib/python3.8/site-packages (from python-dateutil>=2.7->matplotlib>=3.4.1->alignn) (1.16.0)\n",
      "\u001b[33mWARNING: You are using pip version 21.3.1; however, version 22.0.3 is available.\n",
      "You should consider upgrading via the '/usr/local/bin/python3 -m pip install --upgrade pip' command.\u001b[0m\n"
     ]
    }
   ],
   "source": [
    "%pip install alignn dgl-cu111"
   ]
  },
  {
   "cell_type": "code",
   "execution_count": 57,
   "id": "44424c63",
   "metadata": {
    "cellId": "mxt9pc4stktvpi4ll5grrf"
   },
   "outputs": [
    {
     "name": "stderr",
     "output_type": "stream",
     "text": [
      "Using backend: pytorch\n",
      "100%|██████████| 2758/2758 [06:59<00:00,  6.57it/s]\n",
      "100%|██████████| 2758/2758 [00:48<00:00, 56.31it/s]\n",
      "100%|██████████| 148/148 [00:22<00:00,  6.62it/s]\n",
      "100%|██████████| 148/148 [00:02<00:00, 57.41it/s]\n",
      "100%|██████████| 59/59 [00:09<00:00,  6.55it/s]\n",
      "100%|██████████| 59/59 [00:01<00:00, 57.84it/s]\n"
     ]
    },
    {
     "data": {
      "application/vnd.jupyter.widget-view+json": {
       "model_id": "cb56d7e72dbb4d75a4cfe030b3644264",
       "version_major": 2,
       "version_minor": 0
      },
      "text/plain": [
       "[1/344]   0%|           [00:00<?]"
      ]
     },
     "metadata": {},
     "output_type": "display_data"
    },
    {
     "data": {
      "application/vnd.jupyter.widget-view+json": {
       "model_id": "beb0e292446e4921ade5f9d5e5e97702",
       "version_major": 2,
       "version_minor": 0
      },
      "text/plain": [
       "[1/344]   0%|           [00:00<?]"
      ]
     },
     "metadata": {},
     "output_type": "display_data"
    },
    {
     "data": {
      "application/vnd.jupyter.widget-view+json": {
       "model_id": "23a6761a8fae4612a9ddaa33854e06cc",
       "version_major": 2,
       "version_minor": 0
      },
      "text/plain": [
       "[1/344]   0%|           [00:00<?]"
      ]
     },
     "metadata": {},
     "output_type": "display_data"
    },
    {
     "data": {
      "application/vnd.jupyter.widget-view+json": {
       "model_id": "8b684ae92669493f894acaaa6df90546",
       "version_major": 2,
       "version_minor": 0
      },
      "text/plain": [
       "[1/344]   0%|           [00:00<?]"
      ]
     },
     "metadata": {},
     "output_type": "display_data"
    },
    {
     "data": {
      "application/vnd.jupyter.widget-view+json": {
       "model_id": "92b9854e790f496f81e83d857f67ace0",
       "version_major": 2,
       "version_minor": 0
      },
      "text/plain": [
       "[1/344]   0%|           [00:00<?]"
      ]
     },
     "metadata": {},
     "output_type": "display_data"
    },
    {
     "data": {
      "application/vnd.jupyter.widget-view+json": {
       "model_id": "0b56ade592da441384a11d90e0e1cdde",
       "version_major": 2,
       "version_minor": 0
      },
      "text/plain": [
       "[1/344]   0%|           [00:00<?]"
      ]
     },
     "metadata": {},
     "output_type": "display_data"
    },
    {
     "data": {
      "application/vnd.jupyter.widget-view+json": {
       "model_id": "e7b1c8085d0c4a9b9b0cbaa327a9dfc0",
       "version_major": 2,
       "version_minor": 0
      },
      "text/plain": [
       "[1/344]   0%|           [00:00<?]"
      ]
     },
     "metadata": {},
     "output_type": "display_data"
    },
    {
     "data": {
      "application/vnd.jupyter.widget-view+json": {
       "model_id": "f9b5351ee435448b934f041635c8f23c",
       "version_major": 2,
       "version_minor": 0
      },
      "text/plain": [
       "[1/344]   0%|           [00:00<?]"
      ]
     },
     "metadata": {},
     "output_type": "display_data"
    },
    {
     "data": {
      "application/vnd.jupyter.widget-view+json": {
       "model_id": "e9d620ef44df47a49a53932e0013d4d6",
       "version_major": 2,
       "version_minor": 0
      },
      "text/plain": [
       "[1/344]   0%|           [00:00<?]"
      ]
     },
     "metadata": {},
     "output_type": "display_data"
    },
    {
     "data": {
      "application/vnd.jupyter.widget-view+json": {
       "model_id": "f9f0b247111048c6887326a3b8b59717",
       "version_major": 2,
       "version_minor": 0
      },
      "text/plain": [
       "[1/344]   0%|           [00:00<?]"
      ]
     },
     "metadata": {},
     "output_type": "display_data"
    },
    {
     "data": {
      "application/vnd.jupyter.widget-view+json": {
       "model_id": "77e833b5beb044dba2d82f6a88fc9547",
       "version_major": 2,
       "version_minor": 0
      },
      "text/plain": [
       "[1/344]   0%|           [00:00<?]"
      ]
     },
     "metadata": {},
     "output_type": "display_data"
    },
    {
     "data": {
      "application/vnd.jupyter.widget-view+json": {
       "model_id": "e4ab6a8fead94551b79272534cb21838",
       "version_major": 2,
       "version_minor": 0
      },
      "text/plain": [
       "[1/344]   0%|           [00:00<?]"
      ]
     },
     "metadata": {},
     "output_type": "display_data"
    },
    {
     "data": {
      "application/vnd.jupyter.widget-view+json": {
       "model_id": "0c52d51df0464a58b0c3c854b346afc5",
       "version_major": 2,
       "version_minor": 0
      },
      "text/plain": [
       "[1/344]   0%|           [00:00<?]"
      ]
     },
     "metadata": {},
     "output_type": "display_data"
    },
    {
     "data": {
      "application/vnd.jupyter.widget-view+json": {
       "model_id": "948bce13b72c464a9b9a0a74a13f1172",
       "version_major": 2,
       "version_minor": 0
      },
      "text/plain": [
       "[1/344]   0%|           [00:00<?]"
      ]
     },
     "metadata": {},
     "output_type": "display_data"
    },
    {
     "data": {
      "application/vnd.jupyter.widget-view+json": {
       "model_id": "20f4848eb07c4e8cb338aa1385cb196c",
       "version_major": 2,
       "version_minor": 0
      },
      "text/plain": [
       "[1/344]   0%|           [00:00<?]"
      ]
     },
     "metadata": {},
     "output_type": "display_data"
    },
    {
     "data": {
      "application/vnd.jupyter.widget-view+json": {
       "model_id": "1698daf6ad6e4d2db6468aa3d7efb0b2",
       "version_major": 2,
       "version_minor": 0
      },
      "text/plain": [
       "[1/344]   0%|           [00:00<?]"
      ]
     },
     "metadata": {},
     "output_type": "display_data"
    },
    {
     "data": {
      "application/vnd.jupyter.widget-view+json": {
       "model_id": "2a2d0c21878241fd88586429c16cc978",
       "version_major": 2,
       "version_minor": 0
      },
      "text/plain": [
       "[1/344]   0%|           [00:00<?]"
      ]
     },
     "metadata": {},
     "output_type": "display_data"
    },
    {
     "data": {
      "application/vnd.jupyter.widget-view+json": {
       "model_id": "3daff63a578c45adb9c1ca3c3c4a0c03",
       "version_major": 2,
       "version_minor": 0
      },
      "text/plain": [
       "[1/344]   0%|           [00:00<?]"
      ]
     },
     "metadata": {},
     "output_type": "display_data"
    },
    {
     "data": {
      "application/vnd.jupyter.widget-view+json": {
       "model_id": "b7950d5e311641709941ed2d6457eb97",
       "version_major": 2,
       "version_minor": 0
      },
      "text/plain": [
       "[1/344]   0%|           [00:00<?]"
      ]
     },
     "metadata": {},
     "output_type": "display_data"
    },
    {
     "data": {
      "application/vnd.jupyter.widget-view+json": {
       "model_id": "e1fc848aadb24e8ba97200c6b32cef88",
       "version_major": 2,
       "version_minor": 0
      },
      "text/plain": [
       "[1/344]   0%|           [00:00<?]"
      ]
     },
     "metadata": {},
     "output_type": "display_data"
    },
    {
     "data": {
      "application/vnd.jupyter.widget-view+json": {
       "model_id": "d29541551acc4b01a349e4f422d578eb",
       "version_major": 2,
       "version_minor": 0
      },
      "text/plain": [
       "[1/344]   0%|           [00:00<?]"
      ]
     },
     "metadata": {},
     "output_type": "display_data"
    },
    {
     "data": {
      "application/vnd.jupyter.widget-view+json": {
       "model_id": "41bd98c8901b4191a1ade5d672f23ddb",
       "version_major": 2,
       "version_minor": 0
      },
      "text/plain": [
       "[1/344]   0%|           [00:00<?]"
      ]
     },
     "metadata": {},
     "output_type": "display_data"
    },
    {
     "data": {
      "application/vnd.jupyter.widget-view+json": {
       "model_id": "58ea46b7c097443989ac63fd60d6b3dc",
       "version_major": 2,
       "version_minor": 0
      },
      "text/plain": [
       "[1/344]   0%|           [00:00<?]"
      ]
     },
     "metadata": {},
     "output_type": "display_data"
    },
    {
     "data": {
      "application/vnd.jupyter.widget-view+json": {
       "model_id": "a999d0f1702c4892a2200e8895651ee6",
       "version_major": 2,
       "version_minor": 0
      },
      "text/plain": [
       "[1/344]   0%|           [00:00<?]"
      ]
     },
     "metadata": {},
     "output_type": "display_data"
    },
    {
     "data": {
      "application/vnd.jupyter.widget-view+json": {
       "model_id": "44919bfa19b542d1a81d188a9b63655d",
       "version_major": 2,
       "version_minor": 0
      },
      "text/plain": [
       "[1/344]   0%|           [00:00<?]"
      ]
     },
     "metadata": {},
     "output_type": "display_data"
    },
    {
     "data": {
      "application/vnd.jupyter.widget-view+json": {
       "model_id": "811ba4ca5aad42a0b7eeb6ce117e456c",
       "version_major": 2,
       "version_minor": 0
      },
      "text/plain": [
       "[1/344]   0%|           [00:00<?]"
      ]
     },
     "metadata": {},
     "output_type": "display_data"
    },
    {
     "data": {
      "application/vnd.jupyter.widget-view+json": {
       "model_id": "d89157a0bfc64da3bc471f9454838e56",
       "version_major": 2,
       "version_minor": 0
      },
      "text/plain": [
       "[1/344]   0%|           [00:00<?]"
      ]
     },
     "metadata": {},
     "output_type": "display_data"
    },
    {
     "data": {
      "application/vnd.jupyter.widget-view+json": {
       "model_id": "3b4ae38293d34deb96f99c8dedd1da9b",
       "version_major": 2,
       "version_minor": 0
      },
      "text/plain": [
       "[1/344]   0%|           [00:00<?]"
      ]
     },
     "metadata": {},
     "output_type": "display_data"
    },
    {
     "data": {
      "application/vnd.jupyter.widget-view+json": {
       "model_id": "e3c313a14ec64e9ba967442133cc06c6",
       "version_major": 2,
       "version_minor": 0
      },
      "text/plain": [
       "[1/344]   0%|           [00:00<?]"
      ]
     },
     "metadata": {},
     "output_type": "display_data"
    },
    {
     "data": {
      "application/vnd.jupyter.widget-view+json": {
       "model_id": "12454dc79db14745bcc2f49ffc6aabab",
       "version_major": 2,
       "version_minor": 0
      },
      "text/plain": [
       "[1/344]   0%|           [00:00<?]"
      ]
     },
     "metadata": {},
     "output_type": "display_data"
    },
    {
     "data": {
      "application/vnd.jupyter.widget-view+json": {
       "model_id": "617bf313afa9490ba86945d28dc00924",
       "version_major": 2,
       "version_minor": 0
      },
      "text/plain": [
       "[1/344]   0%|           [00:00<?]"
      ]
     },
     "metadata": {},
     "output_type": "display_data"
    },
    {
     "data": {
      "application/vnd.jupyter.widget-view+json": {
       "model_id": "f7df9a698b654955aab2c7143171b83c",
       "version_major": 2,
       "version_minor": 0
      },
      "text/plain": [
       "[1/344]   0%|           [00:00<?]"
      ]
     },
     "metadata": {},
     "output_type": "display_data"
    },
    {
     "data": {
      "application/vnd.jupyter.widget-view+json": {
       "model_id": "a61a359a7d0044f6bafa920e7c830e20",
       "version_major": 2,
       "version_minor": 0
      },
      "text/plain": [
       "[1/344]   0%|           [00:00<?]"
      ]
     },
     "metadata": {},
     "output_type": "display_data"
    },
    {
     "data": {
      "application/vnd.jupyter.widget-view+json": {
       "model_id": "754a5c9fe2c9448889c077d587dd3268",
       "version_major": 2,
       "version_minor": 0
      },
      "text/plain": [
       "[1/344]   0%|           [00:00<?]"
      ]
     },
     "metadata": {},
     "output_type": "display_data"
    },
    {
     "data": {
      "application/vnd.jupyter.widget-view+json": {
       "model_id": "47be06f0b5574ea5979d42cf7a89f293",
       "version_major": 2,
       "version_minor": 0
      },
      "text/plain": [
       "[1/344]   0%|           [00:00<?]"
      ]
     },
     "metadata": {},
     "output_type": "display_data"
    },
    {
     "data": {
      "application/vnd.jupyter.widget-view+json": {
       "model_id": "17ac8b2353d84f51bb75637235445f85",
       "version_major": 2,
       "version_minor": 0
      },
      "text/plain": [
       "[1/344]   0%|           [00:00<?]"
      ]
     },
     "metadata": {},
     "output_type": "display_data"
    },
    {
     "data": {
      "application/vnd.jupyter.widget-view+json": {
       "model_id": "1bcb4998155c4e0e94ba6c7da60da031",
       "version_major": 2,
       "version_minor": 0
      },
      "text/plain": [
       "[1/344]   0%|           [00:00<?]"
      ]
     },
     "metadata": {},
     "output_type": "display_data"
    },
    {
     "data": {
      "application/vnd.jupyter.widget-view+json": {
       "model_id": "55efd9082a924ac2a8f5a65c20c712d9",
       "version_major": 2,
       "version_minor": 0
      },
      "text/plain": [
       "[1/344]   0%|           [00:00<?]"
      ]
     },
     "metadata": {},
     "output_type": "display_data"
    },
    {
     "data": {
      "application/vnd.jupyter.widget-view+json": {
       "model_id": "f87d4871862f4fbba0ddb8ca3884f381",
       "version_major": 2,
       "version_minor": 0
      },
      "text/plain": [
       "[1/344]   0%|           [00:00<?]"
      ]
     },
     "metadata": {},
     "output_type": "display_data"
    },
    {
     "data": {
      "application/vnd.jupyter.widget-view+json": {
       "model_id": "82edc33bd32242668b6a11835725b8a7",
       "version_major": 2,
       "version_minor": 0
      },
      "text/plain": [
       "[1/344]   0%|           [00:00<?]"
      ]
     },
     "metadata": {},
     "output_type": "display_data"
    },
    {
     "data": {
      "application/vnd.jupyter.widget-view+json": {
       "model_id": "38dc234f3f4a4d639b6a55132cd0b70f",
       "version_major": 2,
       "version_minor": 0
      },
      "text/plain": [
       "[1/344]   0%|           [00:00<?]"
      ]
     },
     "metadata": {},
     "output_type": "display_data"
    },
    {
     "data": {
      "application/vnd.jupyter.widget-view+json": {
       "model_id": "19c0539696d0441c83aed836f054cdce",
       "version_major": 2,
       "version_minor": 0
      },
      "text/plain": [
       "[1/344]   0%|           [00:00<?]"
      ]
     },
     "metadata": {},
     "output_type": "display_data"
    },
    {
     "data": {
      "application/vnd.jupyter.widget-view+json": {
       "model_id": "82068c66896a4a0493954b085c9872f8",
       "version_major": 2,
       "version_minor": 0
      },
      "text/plain": [
       "[1/344]   0%|           [00:00<?]"
      ]
     },
     "metadata": {},
     "output_type": "display_data"
    },
    {
     "data": {
      "application/vnd.jupyter.widget-view+json": {
       "model_id": "8c0cac3c565d4da5aa0d20ff4a0e74fb",
       "version_major": 2,
       "version_minor": 0
      },
      "text/plain": [
       "[1/344]   0%|           [00:00<?]"
      ]
     },
     "metadata": {},
     "output_type": "display_data"
    },
    {
     "data": {
      "application/vnd.jupyter.widget-view+json": {
       "model_id": "20833298f9754354840ca92535305d30",
       "version_major": 2,
       "version_minor": 0
      },
      "text/plain": [
       "[1/344]   0%|           [00:00<?]"
      ]
     },
     "metadata": {},
     "output_type": "display_data"
    },
    {
     "data": {
      "application/vnd.jupyter.widget-view+json": {
       "model_id": "d037a8e2cd7f4f82ad92a42b3cd51689",
       "version_major": 2,
       "version_minor": 0
      },
      "text/plain": [
       "[1/344]   0%|           [00:00<?]"
      ]
     },
     "metadata": {},
     "output_type": "display_data"
    },
    {
     "data": {
      "application/vnd.jupyter.widget-view+json": {
       "model_id": "fdac167c154e4bf89029cec39fa36e67",
       "version_major": 2,
       "version_minor": 0
      },
      "text/plain": [
       "[1/344]   0%|           [00:00<?]"
      ]
     },
     "metadata": {},
     "output_type": "display_data"
    },
    {
     "data": {
      "application/vnd.jupyter.widget-view+json": {
       "model_id": "63b95af95e7146459347868d64783946",
       "version_major": 2,
       "version_minor": 0
      },
      "text/plain": [
       "[1/344]   0%|           [00:00<?]"
      ]
     },
     "metadata": {},
     "output_type": "display_data"
    },
    {
     "data": {
      "application/vnd.jupyter.widget-view+json": {
       "model_id": "6227644fd86646bf8c50d3a687ff11ac",
       "version_major": 2,
       "version_minor": 0
      },
      "text/plain": [
       "[1/344]   0%|           [00:00<?]"
      ]
     },
     "metadata": {},
     "output_type": "display_data"
    },
    {
     "data": {
      "application/vnd.jupyter.widget-view+json": {
       "model_id": "9aa344b190a447bd9dbd75940d1a0c9e",
       "version_major": 2,
       "version_minor": 0
      },
      "text/plain": [
       "[1/344]   0%|           [00:00<?]"
      ]
     },
     "metadata": {},
     "output_type": "display_data"
    },
    {
     "data": {
      "application/vnd.jupyter.widget-view+json": {
       "model_id": "ddff8b663ed54aeaad78b78febae1a42",
       "version_major": 2,
       "version_minor": 0
      },
      "text/plain": [
       "[1/344]   0%|           [00:00<?]"
      ]
     },
     "metadata": {},
     "output_type": "display_data"
    },
    {
     "data": {
      "application/vnd.jupyter.widget-view+json": {
       "model_id": "35aae7d1d3ad43bbbd268894e4056678",
       "version_major": 2,
       "version_minor": 0
      },
      "text/plain": [
       "[1/344]   0%|           [00:00<?]"
      ]
     },
     "metadata": {},
     "output_type": "display_data"
    },
    {
     "data": {
      "application/vnd.jupyter.widget-view+json": {
       "model_id": "2c6f509a030b48f28bad3fe542784596",
       "version_major": 2,
       "version_minor": 0
      },
      "text/plain": [
       "[1/344]   0%|           [00:00<?]"
      ]
     },
     "metadata": {},
     "output_type": "display_data"
    },
    {
     "data": {
      "application/vnd.jupyter.widget-view+json": {
       "model_id": "13af01f518134b5ab804c24dfb3d532a",
       "version_major": 2,
       "version_minor": 0
      },
      "text/plain": [
       "[1/344]   0%|           [00:00<?]"
      ]
     },
     "metadata": {},
     "output_type": "display_data"
    },
    {
     "data": {
      "application/vnd.jupyter.widget-view+json": {
       "model_id": "16159119c30042f7b4ee6ec7b884ce3d",
       "version_major": 2,
       "version_minor": 0
      },
      "text/plain": [
       "[1/344]   0%|           [00:00<?]"
      ]
     },
     "metadata": {},
     "output_type": "display_data"
    },
    {
     "data": {
      "application/vnd.jupyter.widget-view+json": {
       "model_id": "fefb51230b4f40049f88a73b5b3c6543",
       "version_major": 2,
       "version_minor": 0
      },
      "text/plain": [
       "[1/344]   0%|           [00:00<?]"
      ]
     },
     "metadata": {},
     "output_type": "display_data"
    },
    {
     "data": {
      "application/vnd.jupyter.widget-view+json": {
       "model_id": "1901843d981d4179ace33dcdd05ff83e",
       "version_major": 2,
       "version_minor": 0
      },
      "text/plain": [
       "[1/344]   0%|           [00:00<?]"
      ]
     },
     "metadata": {},
     "output_type": "display_data"
    },
    {
     "data": {
      "application/vnd.jupyter.widget-view+json": {
       "model_id": "c95b3b161c0942dd98843a910eb7ec88",
       "version_major": 2,
       "version_minor": 0
      },
      "text/plain": [
       "[1/344]   0%|           [00:00<?]"
      ]
     },
     "metadata": {},
     "output_type": "display_data"
    },
    {
     "data": {
      "application/vnd.jupyter.widget-view+json": {
       "model_id": "5f9940d6aa7c4c0fb9f1b2e91a810863",
       "version_major": 2,
       "version_minor": 0
      },
      "text/plain": [
       "[1/344]   0%|           [00:00<?]"
      ]
     },
     "metadata": {},
     "output_type": "display_data"
    },
    {
     "data": {
      "application/vnd.jupyter.widget-view+json": {
       "model_id": "4005339c3de841e79cc513850d57e9c6",
       "version_major": 2,
       "version_minor": 0
      },
      "text/plain": [
       "[1/344]   0%|           [00:00<?]"
      ]
     },
     "metadata": {},
     "output_type": "display_data"
    },
    {
     "data": {
      "application/vnd.jupyter.widget-view+json": {
       "model_id": "20e501318af34b7282fefd0a398068fd",
       "version_major": 2,
       "version_minor": 0
      },
      "text/plain": [
       "[1/344]   0%|           [00:00<?]"
      ]
     },
     "metadata": {},
     "output_type": "display_data"
    },
    {
     "data": {
      "application/vnd.jupyter.widget-view+json": {
       "model_id": "e1fc7b387bbb4f9b96d845a089cdda94",
       "version_major": 2,
       "version_minor": 0
      },
      "text/plain": [
       "[1/344]   0%|           [00:00<?]"
      ]
     },
     "metadata": {},
     "output_type": "display_data"
    },
    {
     "data": {
      "application/vnd.jupyter.widget-view+json": {
       "model_id": "da0b734bb1294042b1f1091dbc3930fa",
       "version_major": 2,
       "version_minor": 0
      },
      "text/plain": [
       "[1/344]   0%|           [00:00<?]"
      ]
     },
     "metadata": {},
     "output_type": "display_data"
    },
    {
     "data": {
      "application/vnd.jupyter.widget-view+json": {
       "model_id": "c7890e700cef4bf9b8a0474b4bb7b494",
       "version_major": 2,
       "version_minor": 0
      },
      "text/plain": [
       "[1/344]   0%|           [00:00<?]"
      ]
     },
     "metadata": {},
     "output_type": "display_data"
    },
    {
     "data": {
      "application/vnd.jupyter.widget-view+json": {
       "model_id": "dd7206a29b064bdc937c541149960816",
       "version_major": 2,
       "version_minor": 0
      },
      "text/plain": [
       "[1/344]   0%|           [00:00<?]"
      ]
     },
     "metadata": {},
     "output_type": "display_data"
    },
    {
     "data": {
      "application/vnd.jupyter.widget-view+json": {
       "model_id": "34be97bf7b454c8c8734a055d47a85db",
       "version_major": 2,
       "version_minor": 0
      },
      "text/plain": [
       "[1/344]   0%|           [00:00<?]"
      ]
     },
     "metadata": {},
     "output_type": "display_data"
    },
    {
     "data": {
      "application/vnd.jupyter.widget-view+json": {
       "model_id": "6fb76c4c6006466e9195a8034df19316",
       "version_major": 2,
       "version_minor": 0
      },
      "text/plain": [
       "[1/344]   0%|           [00:00<?]"
      ]
     },
     "metadata": {},
     "output_type": "display_data"
    },
    {
     "data": {
      "application/vnd.jupyter.widget-view+json": {
       "model_id": "4e0829a5f52d4992b7a2256fcfd6a68e",
       "version_major": 2,
       "version_minor": 0
      },
      "text/plain": [
       "[1/344]   0%|           [00:00<?]"
      ]
     },
     "metadata": {},
     "output_type": "display_data"
    },
    {
     "data": {
      "application/vnd.jupyter.widget-view+json": {
       "model_id": "81db0f9537734bffaf1a310c5980b5b3",
       "version_major": 2,
       "version_minor": 0
      },
      "text/plain": [
       "[1/344]   0%|           [00:00<?]"
      ]
     },
     "metadata": {},
     "output_type": "display_data"
    },
    {
     "data": {
      "application/vnd.jupyter.widget-view+json": {
       "model_id": "d77a1abee26442449b76b192a01ea5d6",
       "version_major": 2,
       "version_minor": 0
      },
      "text/plain": [
       "[1/344]   0%|           [00:00<?]"
      ]
     },
     "metadata": {},
     "output_type": "display_data"
    },
    {
     "data": {
      "application/vnd.jupyter.widget-view+json": {
       "model_id": "2c0e871359874239a1e386ab9a0a4335",
       "version_major": 2,
       "version_minor": 0
      },
      "text/plain": [
       "[1/344]   0%|           [00:00<?]"
      ]
     },
     "metadata": {},
     "output_type": "display_data"
    },
    {
     "data": {
      "application/vnd.jupyter.widget-view+json": {
       "model_id": "7ffa4a64dcac40cbb8493eecb8563ecf",
       "version_major": 2,
       "version_minor": 0
      },
      "text/plain": [
       "[1/344]   0%|           [00:00<?]"
      ]
     },
     "metadata": {},
     "output_type": "display_data"
    },
    {
     "data": {
      "application/vnd.jupyter.widget-view+json": {
       "model_id": "e200c3a3b387448a85bb2736cb17b992",
       "version_major": 2,
       "version_minor": 0
      },
      "text/plain": [
       "[1/344]   0%|           [00:00<?]"
      ]
     },
     "metadata": {},
     "output_type": "display_data"
    },
    {
     "data": {
      "application/vnd.jupyter.widget-view+json": {
       "model_id": "8fbfceb9e3904a44aae53552b4f2f194",
       "version_major": 2,
       "version_minor": 0
      },
      "text/plain": [
       "[1/344]   0%|           [00:00<?]"
      ]
     },
     "metadata": {},
     "output_type": "display_data"
    },
    {
     "data": {
      "application/vnd.jupyter.widget-view+json": {
       "model_id": "f15c40388efe4a7395577a4aa98a283a",
       "version_major": 2,
       "version_minor": 0
      },
      "text/plain": [
       "[1/344]   0%|           [00:00<?]"
      ]
     },
     "metadata": {},
     "output_type": "display_data"
    },
    {
     "data": {
      "application/vnd.jupyter.widget-view+json": {
       "model_id": "3a0247d25ac8465292019e7fb24e5c6d",
       "version_major": 2,
       "version_minor": 0
      },
      "text/plain": [
       "[1/344]   0%|           [00:00<?]"
      ]
     },
     "metadata": {},
     "output_type": "display_data"
    },
    {
     "data": {
      "application/vnd.jupyter.widget-view+json": {
       "model_id": "4239e026421a45cc98e29f1e2ec7d340",
       "version_major": 2,
       "version_minor": 0
      },
      "text/plain": [
       "[1/344]   0%|           [00:00<?]"
      ]
     },
     "metadata": {},
     "output_type": "display_data"
    },
    {
     "data": {
      "application/vnd.jupyter.widget-view+json": {
       "model_id": "1888da8639bb47d3bcaf1bc3b9592bd7",
       "version_major": 2,
       "version_minor": 0
      },
      "text/plain": [
       "[1/344]   0%|           [00:00<?]"
      ]
     },
     "metadata": {},
     "output_type": "display_data"
    },
    {
     "data": {
      "application/vnd.jupyter.widget-view+json": {
       "model_id": "3af0a1251f684dfe9f9ec47aea2f5a6d",
       "version_major": 2,
       "version_minor": 0
      },
      "text/plain": [
       "[1/344]   0%|           [00:00<?]"
      ]
     },
     "metadata": {},
     "output_type": "display_data"
    },
    {
     "data": {
      "application/vnd.jupyter.widget-view+json": {
       "model_id": "1cc17c26d9714b86ba155de8936d7d29",
       "version_major": 2,
       "version_minor": 0
      },
      "text/plain": [
       "[1/344]   0%|           [00:00<?]"
      ]
     },
     "metadata": {},
     "output_type": "display_data"
    },
    {
     "data": {
      "application/vnd.jupyter.widget-view+json": {
       "model_id": "76a3ce200caa4e18886ccb423d52c5e7",
       "version_major": 2,
       "version_minor": 0
      },
      "text/plain": [
       "[1/344]   0%|           [00:00<?]"
      ]
     },
     "metadata": {},
     "output_type": "display_data"
    },
    {
     "data": {
      "application/vnd.jupyter.widget-view+json": {
       "model_id": "1c072897080344dcb1ed79c9661c40a4",
       "version_major": 2,
       "version_minor": 0
      },
      "text/plain": [
       "[1/344]   0%|           [00:00<?]"
      ]
     },
     "metadata": {},
     "output_type": "display_data"
    },
    {
     "data": {
      "application/vnd.jupyter.widget-view+json": {
       "model_id": "d343248e90e04717b8f56e0ef2146b89",
       "version_major": 2,
       "version_minor": 0
      },
      "text/plain": [
       "[1/344]   0%|           [00:00<?]"
      ]
     },
     "metadata": {},
     "output_type": "display_data"
    },
    {
     "data": {
      "application/vnd.jupyter.widget-view+json": {
       "model_id": "db76cb69dd7c4e648a83f8e9dc1c7c97",
       "version_major": 2,
       "version_minor": 0
      },
      "text/plain": [
       "[1/344]   0%|           [00:00<?]"
      ]
     },
     "metadata": {},
     "output_type": "display_data"
    },
    {
     "data": {
      "application/vnd.jupyter.widget-view+json": {
       "model_id": "d00fef0280ac4a72beabc13f1fa8d874",
       "version_major": 2,
       "version_minor": 0
      },
      "text/plain": [
       "[1/344]   0%|           [00:00<?]"
      ]
     },
     "metadata": {},
     "output_type": "display_data"
    },
    {
     "data": {
      "application/vnd.jupyter.widget-view+json": {
       "model_id": "c081a32b8926432cacddae4a931a2d36",
       "version_major": 2,
       "version_minor": 0
      },
      "text/plain": [
       "[1/344]   0%|           [00:00<?]"
      ]
     },
     "metadata": {},
     "output_type": "display_data"
    },
    {
     "data": {
      "application/vnd.jupyter.widget-view+json": {
       "model_id": "fde28e8abfdd4748956791326eccca01",
       "version_major": 2,
       "version_minor": 0
      },
      "text/plain": [
       "[1/344]   0%|           [00:00<?]"
      ]
     },
     "metadata": {},
     "output_type": "display_data"
    },
    {
     "data": {
      "application/vnd.jupyter.widget-view+json": {
       "model_id": "4722f219260d4bc59751360ee5902075",
       "version_major": 2,
       "version_minor": 0
      },
      "text/plain": [
       "[1/344]   0%|           [00:00<?]"
      ]
     },
     "metadata": {},
     "output_type": "display_data"
    },
    {
     "data": {
      "application/vnd.jupyter.widget-view+json": {
       "model_id": "1c263b5b94814d52a9b27233526078e0",
       "version_major": 2,
       "version_minor": 0
      },
      "text/plain": [
       "[1/344]   0%|           [00:00<?]"
      ]
     },
     "metadata": {},
     "output_type": "display_data"
    },
    {
     "data": {
      "application/vnd.jupyter.widget-view+json": {
       "model_id": "eb0e986e8b0c425c8b20332bb54373fe",
       "version_major": 2,
       "version_minor": 0
      },
      "text/plain": [
       "[1/344]   0%|           [00:00<?]"
      ]
     },
     "metadata": {},
     "output_type": "display_data"
    },
    {
     "data": {
      "application/vnd.jupyter.widget-view+json": {
       "model_id": "9fdada7030aa490f8174165830f7938a",
       "version_major": 2,
       "version_minor": 0
      },
      "text/plain": [
       "[1/344]   0%|           [00:00<?]"
      ]
     },
     "metadata": {},
     "output_type": "display_data"
    },
    {
     "data": {
      "application/vnd.jupyter.widget-view+json": {
       "model_id": "ae82cb3e96ea4c179c066fb6a67359dc",
       "version_major": 2,
       "version_minor": 0
      },
      "text/plain": [
       "[1/344]   0%|           [00:00<?]"
      ]
     },
     "metadata": {},
     "output_type": "display_data"
    },
    {
     "data": {
      "application/vnd.jupyter.widget-view+json": {
       "model_id": "f04d54cde0394d75bab418d42bcdd75d",
       "version_major": 2,
       "version_minor": 0
      },
      "text/plain": [
       "[1/344]   0%|           [00:00<?]"
      ]
     },
     "metadata": {},
     "output_type": "display_data"
    },
    {
     "data": {
      "application/vnd.jupyter.widget-view+json": {
       "model_id": "1ee8c6b8413445c38d9c810e48811b6d",
       "version_major": 2,
       "version_minor": 0
      },
      "text/plain": [
       "[1/344]   0%|           [00:00<?]"
      ]
     },
     "metadata": {},
     "output_type": "display_data"
    },
    {
     "data": {
      "application/vnd.jupyter.widget-view+json": {
       "model_id": "6941aebd5752423eae2ec221da79f703",
       "version_major": 2,
       "version_minor": 0
      },
      "text/plain": [
       "[1/344]   0%|           [00:00<?]"
      ]
     },
     "metadata": {},
     "output_type": "display_data"
    },
    {
     "data": {
      "application/vnd.jupyter.widget-view+json": {
       "model_id": "bc100da72c08402ab07880d36ac596d1",
       "version_major": 2,
       "version_minor": 0
      },
      "text/plain": [
       "[1/344]   0%|           [00:00<?]"
      ]
     },
     "metadata": {},
     "output_type": "display_data"
    },
    {
     "data": {
      "application/vnd.jupyter.widget-view+json": {
       "model_id": "f3c6698469114389bdd736f01a4192ff",
       "version_major": 2,
       "version_minor": 0
      },
      "text/plain": [
       "[1/344]   0%|           [00:00<?]"
      ]
     },
     "metadata": {},
     "output_type": "display_data"
    },
    {
     "data": {
      "application/vnd.jupyter.widget-view+json": {
       "model_id": "3022d3eca02b40958eef22860c7772a8",
       "version_major": 2,
       "version_minor": 0
      },
      "text/plain": [
       "[1/344]   0%|           [00:00<?]"
      ]
     },
     "metadata": {},
     "output_type": "display_data"
    },
    {
     "data": {
      "application/vnd.jupyter.widget-view+json": {
       "model_id": "0ed283d43274465084e8d69f2a1eee8e",
       "version_major": 2,
       "version_minor": 0
      },
      "text/plain": [
       "[1/344]   0%|           [00:00<?]"
      ]
     },
     "metadata": {},
     "output_type": "display_data"
    },
    {
     "data": {
      "application/vnd.jupyter.widget-view+json": {
       "model_id": "f72e3507b1c04b939263d2459beacd0e",
       "version_major": 2,
       "version_minor": 0
      },
      "text/plain": [
       "[1/344]   0%|           [00:00<?]"
      ]
     },
     "metadata": {},
     "output_type": "display_data"
    },
    {
     "data": {
      "application/vnd.jupyter.widget-view+json": {
       "model_id": "296d0fc85c8c455f86ba8f0483500805",
       "version_major": 2,
       "version_minor": 0
      },
      "text/plain": [
       "[1/344]   0%|           [00:00<?]"
      ]
     },
     "metadata": {},
     "output_type": "display_data"
    },
    {
     "data": {
      "application/vnd.jupyter.widget-view+json": {
       "model_id": "00f358382c2649a4a74dde234b23077b",
       "version_major": 2,
       "version_minor": 0
      },
      "text/plain": [
       "[1/344]   0%|           [00:00<?]"
      ]
     },
     "metadata": {},
     "output_type": "display_data"
    },
    {
     "data": {
      "application/vnd.jupyter.widget-view+json": {
       "model_id": "980ea992fa27492eae1231fd4ac9f61a",
       "version_major": 2,
       "version_minor": 0
      },
      "text/plain": [
       "[1/344]   0%|           [00:00<?]"
      ]
     },
     "metadata": {},
     "output_type": "display_data"
    },
    {
     "data": {
      "application/vnd.jupyter.widget-view+json": {
       "model_id": "a7c7fd7fec4c4a40a1138e737822a65d",
       "version_major": 2,
       "version_minor": 0
      },
      "text/plain": [
       "[1/344]   0%|           [00:00<?]"
      ]
     },
     "metadata": {},
     "output_type": "display_data"
    },
    {
     "data": {
      "application/vnd.jupyter.widget-view+json": {
       "model_id": "5bda0fa35d5a444da665fb49e6ffd8d9",
       "version_major": 2,
       "version_minor": 0
      },
      "text/plain": [
       "[1/344]   0%|           [00:00<?]"
      ]
     },
     "metadata": {},
     "output_type": "display_data"
    },
    {
     "data": {
      "application/vnd.jupyter.widget-view+json": {
       "model_id": "1b0d4cfa75a34e559fe0748cc7be4438",
       "version_major": 2,
       "version_minor": 0
      },
      "text/plain": [
       "[1/344]   0%|           [00:00<?]"
      ]
     },
     "metadata": {},
     "output_type": "display_data"
    },
    {
     "data": {
      "application/vnd.jupyter.widget-view+json": {
       "model_id": "c09d1d85ffaa419684c08b862ce5df65",
       "version_major": 2,
       "version_minor": 0
      },
      "text/plain": [
       "[1/344]   0%|           [00:00<?]"
      ]
     },
     "metadata": {},
     "output_type": "display_data"
    },
    {
     "data": {
      "application/vnd.jupyter.widget-view+json": {
       "model_id": "2c64a4050ca24cbf9eb0848535db21c7",
       "version_major": 2,
       "version_minor": 0
      },
      "text/plain": [
       "[1/344]   0%|           [00:00<?]"
      ]
     },
     "metadata": {},
     "output_type": "display_data"
    },
    {
     "data": {
      "application/vnd.jupyter.widget-view+json": {
       "model_id": "cf125bbfdd2a43ec93dc901314759909",
       "version_major": 2,
       "version_minor": 0
      },
      "text/plain": [
       "[1/344]   0%|           [00:00<?]"
      ]
     },
     "metadata": {},
     "output_type": "display_data"
    },
    {
     "data": {
      "application/vnd.jupyter.widget-view+json": {
       "model_id": "cb0d852d14f346ec9dc70c9c2e5b353a",
       "version_major": 2,
       "version_minor": 0
      },
      "text/plain": [
       "[1/344]   0%|           [00:00<?]"
      ]
     },
     "metadata": {},
     "output_type": "display_data"
    },
    {
     "data": {
      "application/vnd.jupyter.widget-view+json": {
       "model_id": "9f0828a4c8134076980c2c5fb721fba5",
       "version_major": 2,
       "version_minor": 0
      },
      "text/plain": [
       "[1/344]   0%|           [00:00<?]"
      ]
     },
     "metadata": {},
     "output_type": "display_data"
    },
    {
     "data": {
      "application/vnd.jupyter.widget-view+json": {
       "model_id": "bec5859856924ce98760d9c725f6c013",
       "version_major": 2,
       "version_minor": 0
      },
      "text/plain": [
       "[1/344]   0%|           [00:00<?]"
      ]
     },
     "metadata": {},
     "output_type": "display_data"
    },
    {
     "data": {
      "application/vnd.jupyter.widget-view+json": {
       "model_id": "17250df10f564e89a2fdf5bc4f5464cb",
       "version_major": 2,
       "version_minor": 0
      },
      "text/plain": [
       "[1/344]   0%|           [00:00<?]"
      ]
     },
     "metadata": {},
     "output_type": "display_data"
    },
    {
     "data": {
      "application/vnd.jupyter.widget-view+json": {
       "model_id": "964eb74dc6d147f99c4e572ff18feba5",
       "version_major": 2,
       "version_minor": 0
      },
      "text/plain": [
       "[1/344]   0%|           [00:00<?]"
      ]
     },
     "metadata": {},
     "output_type": "display_data"
    },
    {
     "data": {
      "application/vnd.jupyter.widget-view+json": {
       "model_id": "ab78e5c093ab4a5da0b9305930301290",
       "version_major": 2,
       "version_minor": 0
      },
      "text/plain": [
       "[1/344]   0%|           [00:00<?]"
      ]
     },
     "metadata": {},
     "output_type": "display_data"
    },
    {
     "data": {
      "application/vnd.jupyter.widget-view+json": {
       "model_id": "a87767521d734aac921917bafc2dcf5f",
       "version_major": 2,
       "version_minor": 0
      },
      "text/plain": [
       "[1/344]   0%|           [00:00<?]"
      ]
     },
     "metadata": {},
     "output_type": "display_data"
    },
    {
     "data": {
      "application/vnd.jupyter.widget-view+json": {
       "model_id": "dcacc77c0467466c84c19ee94323e693",
       "version_major": 2,
       "version_minor": 0
      },
      "text/plain": [
       "[1/344]   0%|           [00:00<?]"
      ]
     },
     "metadata": {},
     "output_type": "display_data"
    },
    {
     "data": {
      "application/vnd.jupyter.widget-view+json": {
       "model_id": "629b4b89ae314696bdaa220466948019",
       "version_major": 2,
       "version_minor": 0
      },
      "text/plain": [
       "[1/344]   0%|           [00:00<?]"
      ]
     },
     "metadata": {},
     "output_type": "display_data"
    },
    {
     "data": {
      "application/vnd.jupyter.widget-view+json": {
       "model_id": "def02cbeb5df4cc8a70a43180e0d6d6d",
       "version_major": 2,
       "version_minor": 0
      },
      "text/plain": [
       "[1/344]   0%|           [00:00<?]"
      ]
     },
     "metadata": {},
     "output_type": "display_data"
    },
    {
     "data": {
      "application/vnd.jupyter.widget-view+json": {
       "model_id": "3107ce43187b45c185e8bea97e579c3f",
       "version_major": 2,
       "version_minor": 0
      },
      "text/plain": [
       "[1/344]   0%|           [00:00<?]"
      ]
     },
     "metadata": {},
     "output_type": "display_data"
    },
    {
     "data": {
      "application/vnd.jupyter.widget-view+json": {
       "model_id": "914db895f226452f9728d295d64dea81",
       "version_major": 2,
       "version_minor": 0
      },
      "text/plain": [
       "[1/344]   0%|           [00:00<?]"
      ]
     },
     "metadata": {},
     "output_type": "display_data"
    },
    {
     "data": {
      "application/vnd.jupyter.widget-view+json": {
       "model_id": "161c142359824f0b9bfd05f11ccf1e4a",
       "version_major": 2,
       "version_minor": 0
      },
      "text/plain": [
       "[1/344]   0%|           [00:00<?]"
      ]
     },
     "metadata": {},
     "output_type": "display_data"
    },
    {
     "data": {
      "application/vnd.jupyter.widget-view+json": {
       "model_id": "119a66023eb64d7b8364d32d7a6a81f2",
       "version_major": 2,
       "version_minor": 0
      },
      "text/plain": [
       "[1/344]   0%|           [00:00<?]"
      ]
     },
     "metadata": {},
     "output_type": "display_data"
    },
    {
     "data": {
      "application/vnd.jupyter.widget-view+json": {
       "model_id": "7dae655afedb4f139efc3c75e3d2f66c",
       "version_major": 2,
       "version_minor": 0
      },
      "text/plain": [
       "[1/344]   0%|           [00:00<?]"
      ]
     },
     "metadata": {},
     "output_type": "display_data"
    },
    {
     "data": {
      "application/vnd.jupyter.widget-view+json": {
       "model_id": "4c861420e2bc4d98b543f5db1c50d08d",
       "version_major": 2,
       "version_minor": 0
      },
      "text/plain": [
       "[1/344]   0%|           [00:00<?]"
      ]
     },
     "metadata": {},
     "output_type": "display_data"
    },
    {
     "data": {
      "application/vnd.jupyter.widget-view+json": {
       "model_id": "181d8e5da28a47e5806b199a03b28fbd",
       "version_major": 2,
       "version_minor": 0
      },
      "text/plain": [
       "[1/344]   0%|           [00:00<?]"
      ]
     },
     "metadata": {},
     "output_type": "display_data"
    },
    {
     "data": {
      "application/vnd.jupyter.widget-view+json": {
       "model_id": "8a07a287eb67431badc9f65dd554eeac",
       "version_major": 2,
       "version_minor": 0
      },
      "text/plain": [
       "[1/344]   0%|           [00:00<?]"
      ]
     },
     "metadata": {},
     "output_type": "display_data"
    },
    {
     "data": {
      "application/vnd.jupyter.widget-view+json": {
       "model_id": "25c656ec9a0e42ae89fbf6e6806ca3bf",
       "version_major": 2,
       "version_minor": 0
      },
      "text/plain": [
       "[1/344]   0%|           [00:00<?]"
      ]
     },
     "metadata": {},
     "output_type": "display_data"
    },
    {
     "data": {
      "application/vnd.jupyter.widget-view+json": {
       "model_id": "644136d89b7b4dce990e828fb538600c",
       "version_major": 2,
       "version_minor": 0
      },
      "text/plain": [
       "[1/344]   0%|           [00:00<?]"
      ]
     },
     "metadata": {},
     "output_type": "display_data"
    },
    {
     "data": {
      "application/vnd.jupyter.widget-view+json": {
       "model_id": "cb4691f90e2f43df90cdb55af1071d75",
       "version_major": 2,
       "version_minor": 0
      },
      "text/plain": [
       "[1/344]   0%|           [00:00<?]"
      ]
     },
     "metadata": {},
     "output_type": "display_data"
    },
    {
     "data": {
      "application/vnd.jupyter.widget-view+json": {
       "model_id": "0f5c284f1fad4610936bf3ce3a71cc8f",
       "version_major": 2,
       "version_minor": 0
      },
      "text/plain": [
       "[1/344]   0%|           [00:00<?]"
      ]
     },
     "metadata": {},
     "output_type": "display_data"
    },
    {
     "data": {
      "application/vnd.jupyter.widget-view+json": {
       "model_id": "a057ba15f1a4449cbafe3d3f2bcc0381",
       "version_major": 2,
       "version_minor": 0
      },
      "text/plain": [
       "[1/344]   0%|           [00:00<?]"
      ]
     },
     "metadata": {},
     "output_type": "display_data"
    },
    {
     "data": {
      "application/vnd.jupyter.widget-view+json": {
       "model_id": "8700961631284c2380e758e53dcd655c",
       "version_major": 2,
       "version_minor": 0
      },
      "text/plain": [
       "[1/344]   0%|           [00:00<?]"
      ]
     },
     "metadata": {},
     "output_type": "display_data"
    },
    {
     "data": {
      "application/vnd.jupyter.widget-view+json": {
       "model_id": "a8c09d0465e344199f2abe014870d75e",
       "version_major": 2,
       "version_minor": 0
      },
      "text/plain": [
       "[1/344]   0%|           [00:00<?]"
      ]
     },
     "metadata": {},
     "output_type": "display_data"
    },
    {
     "data": {
      "application/vnd.jupyter.widget-view+json": {
       "model_id": "151943e16b664b7ca88eaf45a17b2bf3",
       "version_major": 2,
       "version_minor": 0
      },
      "text/plain": [
       "[1/344]   0%|           [00:00<?]"
      ]
     },
     "metadata": {},
     "output_type": "display_data"
    },
    {
     "data": {
      "application/vnd.jupyter.widget-view+json": {
       "model_id": "59978fc3ff0f4e768abfaf903bac321d",
       "version_major": 2,
       "version_minor": 0
      },
      "text/plain": [
       "[1/344]   0%|           [00:00<?]"
      ]
     },
     "metadata": {},
     "output_type": "display_data"
    },
    {
     "data": {
      "application/vnd.jupyter.widget-view+json": {
       "model_id": "66e585f7f9a44d6490a46376697c4ea9",
       "version_major": 2,
       "version_minor": 0
      },
      "text/plain": [
       "[1/344]   0%|           [00:00<?]"
      ]
     },
     "metadata": {},
     "output_type": "display_data"
    },
    {
     "data": {
      "application/vnd.jupyter.widget-view+json": {
       "model_id": "ed342e165b4d416a9c16078fb46eb2d1",
       "version_major": 2,
       "version_minor": 0
      },
      "text/plain": [
       "[1/344]   0%|           [00:00<?]"
      ]
     },
     "metadata": {},
     "output_type": "display_data"
    },
    {
     "data": {
      "application/vnd.jupyter.widget-view+json": {
       "model_id": "6ba142ff072346fabf47bae167b6ee9d",
       "version_major": 2,
       "version_minor": 0
      },
      "text/plain": [
       "[1/344]   0%|           [00:00<?]"
      ]
     },
     "metadata": {},
     "output_type": "display_data"
    },
    {
     "data": {
      "application/vnd.jupyter.widget-view+json": {
       "model_id": "60e12d5cd9f2427eae2b8f1608ede730",
       "version_major": 2,
       "version_minor": 0
      },
      "text/plain": [
       "[1/344]   0%|           [00:00<?]"
      ]
     },
     "metadata": {},
     "output_type": "display_data"
    },
    {
     "data": {
      "application/vnd.jupyter.widget-view+json": {
       "model_id": "53606ef57ba54497b7f36d5a14039913",
       "version_major": 2,
       "version_minor": 0
      },
      "text/plain": [
       "[1/344]   0%|           [00:00<?]"
      ]
     },
     "metadata": {},
     "output_type": "display_data"
    },
    {
     "data": {
      "application/vnd.jupyter.widget-view+json": {
       "model_id": "4d45beb45ec24d698e1a3bf7aae27b67",
       "version_major": 2,
       "version_minor": 0
      },
      "text/plain": [
       "[1/344]   0%|           [00:00<?]"
      ]
     },
     "metadata": {},
     "output_type": "display_data"
    },
    {
     "data": {
      "application/vnd.jupyter.widget-view+json": {
       "model_id": "90fcfd9764fe4df795e525a1aadeffd5",
       "version_major": 2,
       "version_minor": 0
      },
      "text/plain": [
       "[1/344]   0%|           [00:00<?]"
      ]
     },
     "metadata": {},
     "output_type": "display_data"
    },
    {
     "data": {
      "application/vnd.jupyter.widget-view+json": {
       "model_id": "1cc789c26bbe4ef78f218d5f15c61062",
       "version_major": 2,
       "version_minor": 0
      },
      "text/plain": [
       "[1/344]   0%|           [00:00<?]"
      ]
     },
     "metadata": {},
     "output_type": "display_data"
    },
    {
     "data": {
      "application/vnd.jupyter.widget-view+json": {
       "model_id": "5c2768739ee14fc7b146c8cba159b100",
       "version_major": 2,
       "version_minor": 0
      },
      "text/plain": [
       "[1/344]   0%|           [00:00<?]"
      ]
     },
     "metadata": {},
     "output_type": "display_data"
    },
    {
     "data": {
      "application/vnd.jupyter.widget-view+json": {
       "model_id": "df10fa99ad6e493fab1f77357ca8cb83",
       "version_major": 2,
       "version_minor": 0
      },
      "text/plain": [
       "[1/344]   0%|           [00:00<?]"
      ]
     },
     "metadata": {},
     "output_type": "display_data"
    },
    {
     "data": {
      "application/vnd.jupyter.widget-view+json": {
       "model_id": "82f6b703542445c38c128c32f7bb7061",
       "version_major": 2,
       "version_minor": 0
      },
      "text/plain": [
       "[1/344]   0%|           [00:00<?]"
      ]
     },
     "metadata": {},
     "output_type": "display_data"
    },
    {
     "data": {
      "application/vnd.jupyter.widget-view+json": {
       "model_id": "77500d9541e1407cbc6027fdb8356df4",
       "version_major": 2,
       "version_minor": 0
      },
      "text/plain": [
       "[1/344]   0%|           [00:00<?]"
      ]
     },
     "metadata": {},
     "output_type": "display_data"
    },
    {
     "data": {
      "application/vnd.jupyter.widget-view+json": {
       "model_id": "a446431bdfcb4a7ab8193717396fa878",
       "version_major": 2,
       "version_minor": 0
      },
      "text/plain": [
       "[1/344]   0%|           [00:00<?]"
      ]
     },
     "metadata": {},
     "output_type": "display_data"
    },
    {
     "data": {
      "application/vnd.jupyter.widget-view+json": {
       "model_id": "993bcc9829534d4db1b9ad76cb705d73",
       "version_major": 2,
       "version_minor": 0
      },
      "text/plain": [
       "[1/344]   0%|           [00:00<?]"
      ]
     },
     "metadata": {},
     "output_type": "display_data"
    },
    {
     "data": {
      "application/vnd.jupyter.widget-view+json": {
       "model_id": "c3e12005fa374d29b4d6e1bbe616235e",
       "version_major": 2,
       "version_minor": 0
      },
      "text/plain": [
       "[1/344]   0%|           [00:00<?]"
      ]
     },
     "metadata": {},
     "output_type": "display_data"
    },
    {
     "data": {
      "application/vnd.jupyter.widget-view+json": {
       "model_id": "de753d082e3d453eac12358ffb6b2f36",
       "version_major": 2,
       "version_minor": 0
      },
      "text/plain": [
       "[1/344]   0%|           [00:00<?]"
      ]
     },
     "metadata": {},
     "output_type": "display_data"
    },
    {
     "data": {
      "application/vnd.jupyter.widget-view+json": {
       "model_id": "19dd4fda2ef84e45a980a6b7b4125c33",
       "version_major": 2,
       "version_minor": 0
      },
      "text/plain": [
       "[1/344]   0%|           [00:00<?]"
      ]
     },
     "metadata": {},
     "output_type": "display_data"
    },
    {
     "data": {
      "application/vnd.jupyter.widget-view+json": {
       "model_id": "f806f020cc0a4b9d8f4db41fdd89fb0b",
       "version_major": 2,
       "version_minor": 0
      },
      "text/plain": [
       "[1/344]   0%|           [00:00<?]"
      ]
     },
     "metadata": {},
     "output_type": "display_data"
    },
    {
     "data": {
      "application/vnd.jupyter.widget-view+json": {
       "model_id": "9d292feb90b34558b00da19b9c9b8b77",
       "version_major": 2,
       "version_minor": 0
      },
      "text/plain": [
       "[1/344]   0%|           [00:00<?]"
      ]
     },
     "metadata": {},
     "output_type": "display_data"
    },
    {
     "data": {
      "application/vnd.jupyter.widget-view+json": {
       "model_id": "02eb66a6952949a1aab933df5992794a",
       "version_major": 2,
       "version_minor": 0
      },
      "text/plain": [
       "[1/344]   0%|           [00:00<?]"
      ]
     },
     "metadata": {},
     "output_type": "display_data"
    },
    {
     "data": {
      "application/vnd.jupyter.widget-view+json": {
       "model_id": "178c0aa007d447d3be3cda6f869b6283",
       "version_major": 2,
       "version_minor": 0
      },
      "text/plain": [
       "[1/344]   0%|           [00:00<?]"
      ]
     },
     "metadata": {},
     "output_type": "display_data"
    },
    {
     "data": {
      "application/vnd.jupyter.widget-view+json": {
       "model_id": "034616b16b7e40a298805ded5e698d7a",
       "version_major": 2,
       "version_minor": 0
      },
      "text/plain": [
       "[1/344]   0%|           [00:00<?]"
      ]
     },
     "metadata": {},
     "output_type": "display_data"
    },
    {
     "data": {
      "application/vnd.jupyter.widget-view+json": {
       "model_id": "276cd9d6e90d4432a7413247aa56677a",
       "version_major": 2,
       "version_minor": 0
      },
      "text/plain": [
       "[1/344]   0%|           [00:00<?]"
      ]
     },
     "metadata": {},
     "output_type": "display_data"
    },
    {
     "data": {
      "application/vnd.jupyter.widget-view+json": {
       "model_id": "4ae364d48b5545a3a12c253173c2ca15",
       "version_major": 2,
       "version_minor": 0
      },
      "text/plain": [
       "[1/344]   0%|           [00:00<?]"
      ]
     },
     "metadata": {},
     "output_type": "display_data"
    },
    {
     "name": "stdout",
     "output_type": "stream",
     "text": [
      "MAX val: 1.8106\n",
      "MIN val: 0.09389999999999993\n",
      "MAD: 0.4596230686826515\n",
      "Baseline MAE: 0.40979555745381696\n",
      "data range 1.8106 0.17209999999999998\n",
      "warning: could not load CGCNN features for 103\n",
      "Setting it to max atomic number available here, 103\n",
      "warning: could not load CGCNN features for 101\n",
      "Setting it to max atomic number available here, 103\n",
      "warning: could not load CGCNN features for 102\n",
      "Setting it to max atomic number available here, 103\n",
      "building line graphs\n",
      "data range 1.8103 0.09389999999999993\n",
      "building line graphs\n",
      "data range 1.8087 0.28580000000000005\n",
      "building line graphs\n",
      "n_train: 2758\n",
      "n_val: 148\n",
      "n_test: 59\n",
      "version='112bbedebdaecf59fb18e11c929080fb2f358246' dataset='user_data' target='target' atom_features='cgcnn' neighbor_strategy='k-nearest' id_tag='jid' random_seed=123 classification_threshold=None n_val=None n_test=None n_train=None train_ratio=0.93 val_ratio=0.05 test_ratio=0.02 target_multiplication_factor=None epochs=160 batch_size=8 weight_decay=1e-05 learning_rate=0.001 filename='sample' warmup_steps=2000 criterion='mse' optimizer='adamw' scheduler='onecycle' pin_memory=False save_dataloader=False write_checkpoint=True write_predictions=True store_outputs=True progress=True log_tensorboard=False standard_scalar_and_pca=False use_canonize=True num_workers=4 cutoff=8.0 max_neighbors=12 keep_data_order=False distributed=False n_early_stopping=None output_dir='trial9' model=ALIGNNConfig(name='alignn', alignn_layers=4, gcn_layers=4, atom_input_features=92, edge_input_features=82, triplet_input_features=42, embedding_features=66, hidden_features=264, output_features=1, link='identity', zero_inflated=False, classification=False)\n",
      "config:\n",
      "{'atom_features': 'cgcnn',\n",
      " 'batch_size': 8,\n",
      " 'classification_threshold': None,\n",
      " 'criterion': 'mse',\n",
      " 'cutoff': 8.0,\n",
      " 'dataset': 'user_data',\n",
      " 'distributed': False,\n",
      " 'epochs': 160,\n",
      " 'filename': 'sample',\n",
      " 'id_tag': 'jid',\n",
      " 'keep_data_order': False,\n",
      " 'learning_rate': 0.001,\n",
      " 'log_tensorboard': False,\n",
      " 'max_neighbors': 12,\n",
      " 'model': {'alignn_layers': 4,\n",
      "           'atom_input_features': 92,\n",
      "           'classification': False,\n",
      "           'edge_input_features': 82,\n",
      "           'embedding_features': 66,\n",
      "           'gcn_layers': 4,\n",
      "           'hidden_features': 264,\n",
      "           'link': 'identity',\n",
      "           'name': 'alignn',\n",
      "           'output_features': 1,\n",
      "           'triplet_input_features': 42,\n",
      "           'zero_inflated': False},\n",
      " 'n_early_stopping': None,\n",
      " 'n_test': None,\n",
      " 'n_train': None,\n",
      " 'n_val': None,\n",
      " 'neighbor_strategy': 'k-nearest',\n",
      " 'num_workers': 4,\n",
      " 'optimizer': 'adamw',\n",
      " 'output_dir': 'trial9',\n",
      " 'pin_memory': False,\n",
      " 'progress': True,\n",
      " 'random_seed': 123,\n",
      " 'save_dataloader': False,\n",
      " 'scheduler': 'onecycle',\n",
      " 'standard_scalar_and_pca': False,\n",
      " 'store_outputs': True,\n",
      " 'target': 'target',\n",
      " 'target_multiplication_factor': None,\n",
      " 'test_ratio': 0.02,\n",
      " 'train_ratio': 0.93,\n",
      " 'use_canonize': True,\n",
      " 'val_ratio': 0.05,\n",
      " 'version': '112bbedebdaecf59fb18e11c929080fb2f358246',\n",
      " 'warmup_steps': 2000,\n",
      " 'weight_decay': 1e-05,\n",
      " 'write_checkpoint': True,\n",
      " 'write_predictions': True}\n",
      "Val_MAE: 0.1560\n",
      "Train_MAE: 0.1612\n",
      "Val_MAE: 0.1613\n",
      "Train_MAE: 0.1509\n",
      "Val_MAE: 0.4172\n",
      "Train_MAE: 0.4214\n",
      "Val_MAE: 0.1577\n",
      "Train_MAE: 0.1538\n",
      "Val_MAE: 0.0682\n",
      "Train_MAE: 0.0616\n",
      "Val_MAE: 0.3230\n",
      "Train_MAE: 0.3196\n",
      "Val_MAE: 0.4314\n",
      "Train_MAE: 0.4268\n",
      "Val_MAE: 0.1571\n",
      "Train_MAE: 0.1449\n",
      "Val_MAE: 0.3263\n",
      "Train_MAE: 0.2902\n",
      "Val_MAE: 0.3096\n",
      "Train_MAE: 0.2773\n",
      "Val_MAE: 0.3261\n",
      "Train_MAE: 0.3255\n",
      "Val_MAE: 0.2342\n",
      "Train_MAE: 0.2176\n",
      "Val_MAE: 0.0929\n",
      "Train_MAE: 0.0867\n",
      "Val_MAE: 0.2174\n",
      "Train_MAE: 0.2093\n",
      "Val_MAE: 0.1985\n",
      "Train_MAE: 0.1961\n",
      "Val_MAE: 0.0569\n",
      "Train_MAE: 0.0484\n",
      "Val_MAE: 0.0782\n",
      "Train_MAE: 0.0726\n",
      "Val_MAE: 0.0831\n",
      "Train_MAE: 0.0807\n",
      "Val_MAE: 0.0384\n",
      "Train_MAE: 0.0380\n",
      "Val_MAE: 0.1640\n",
      "Train_MAE: 0.1673\n",
      "Val_MAE: 0.0561\n",
      "Train_MAE: 0.0528\n",
      "Val_MAE: 0.0318\n",
      "Train_MAE: 0.0258\n",
      "Val_MAE: 0.3073\n",
      "Train_MAE: 0.3135\n",
      "Val_MAE: 0.1339\n",
      "Train_MAE: 0.1393\n",
      "Val_MAE: 0.0525\n",
      "Train_MAE: 0.0512\n",
      "Val_MAE: 0.0363\n",
      "Train_MAE: 0.0319\n",
      "Val_MAE: 0.0490\n",
      "Train_MAE: 0.0422\n",
      "Val_MAE: 0.0915\n",
      "Train_MAE: 0.0901\n",
      "Val_MAE: 0.0806\n",
      "Train_MAE: 0.0807\n",
      "Val_MAE: 0.0485\n",
      "Train_MAE: 0.0474\n",
      "Val_MAE: 0.0509\n",
      "Train_MAE: 0.0411\n",
      "Val_MAE: 0.0313\n",
      "Train_MAE: 0.0249\n",
      "Val_MAE: 0.0224\n",
      "Train_MAE: 0.0190\n",
      "Val_MAE: 0.0231\n",
      "Train_MAE: 0.0201\n",
      "Val_MAE: 0.0843\n",
      "Train_MAE: 0.0791\n",
      "Val_MAE: 0.0325\n",
      "Train_MAE: 0.0298\n",
      "Val_MAE: 0.0314\n",
      "Train_MAE: 0.0277\n",
      "Val_MAE: 0.0365\n",
      "Train_MAE: 0.0322\n",
      "Val_MAE: 0.0637\n",
      "Train_MAE: 0.0560\n",
      "Val_MAE: 0.0468\n",
      "Train_MAE: 0.0470\n",
      "Val_MAE: 0.0470\n",
      "Train_MAE: 0.0471\n",
      "Val_MAE: 0.0594\n",
      "Train_MAE: 0.0596\n",
      "Val_MAE: 0.0389\n",
      "Train_MAE: 0.0346\n",
      "Val_MAE: 0.0325\n",
      "Train_MAE: 0.0263\n",
      "Val_MAE: 0.0952\n",
      "Train_MAE: 0.0921\n",
      "Val_MAE: 0.0272\n",
      "Train_MAE: 0.0224\n",
      "Val_MAE: 0.0455\n",
      "Train_MAE: 0.0424\n",
      "Val_MAE: 0.0277\n",
      "Train_MAE: 0.0238\n",
      "Val_MAE: 0.0364\n",
      "Train_MAE: 0.0329\n",
      "Val_MAE: 0.0209\n",
      "Train_MAE: 0.0181\n",
      "Val_MAE: 0.0200\n",
      "Train_MAE: 0.0147\n",
      "Val_MAE: 0.0256\n",
      "Train_MAE: 0.0228\n",
      "Val_MAE: 0.0235\n",
      "Train_MAE: 0.0180\n",
      "Val_MAE: 0.0313\n",
      "Train_MAE: 0.0302\n",
      "Val_MAE: 0.0185\n",
      "Train_MAE: 0.0120\n",
      "Val_MAE: 0.0404\n",
      "Train_MAE: 0.0406\n",
      "Val_MAE: 0.0514\n",
      "Train_MAE: 0.0501\n",
      "Val_MAE: 0.0256\n",
      "Train_MAE: 0.0199\n",
      "Val_MAE: 0.0350\n",
      "Train_MAE: 0.0296\n",
      "Val_MAE: 0.0154\n",
      "Train_MAE: 0.0117\n",
      "Val_MAE: 0.0384\n",
      "Train_MAE: 0.0308\n",
      "Val_MAE: 0.0471\n",
      "Train_MAE: 0.0427\n",
      "Val_MAE: 0.0248\n",
      "Train_MAE: 0.0206\n",
      "Val_MAE: 0.0211\n",
      "Train_MAE: 0.0165\n",
      "Val_MAE: 0.0157\n",
      "Train_MAE: 0.0116\n",
      "Val_MAE: 0.0279\n",
      "Train_MAE: 0.0263\n",
      "Val_MAE: 0.0259\n",
      "Train_MAE: 0.0195\n",
      "Val_MAE: 0.0322\n",
      "Train_MAE: 0.0305\n",
      "Val_MAE: 0.0254\n",
      "Train_MAE: 0.0218\n",
      "Val_MAE: 0.0250\n",
      "Train_MAE: 0.0219\n",
      "Val_MAE: 0.0185\n",
      "Train_MAE: 0.0142\n",
      "Val_MAE: 0.0272\n",
      "Train_MAE: 0.0234\n",
      "Val_MAE: 0.0325\n",
      "Train_MAE: 0.0299\n",
      "Val_MAE: 0.0223\n",
      "Train_MAE: 0.0197\n",
      "Val_MAE: 0.0158\n",
      "Train_MAE: 0.0122\n",
      "Val_MAE: 0.0157\n",
      "Train_MAE: 0.0128\n",
      "Val_MAE: 0.0177\n",
      "Train_MAE: 0.0133\n",
      "Val_MAE: 0.0177\n",
      "Train_MAE: 0.0148\n",
      "Val_MAE: 0.0119\n",
      "Train_MAE: 0.0081\n",
      "Val_MAE: 0.0208\n",
      "Train_MAE: 0.0177\n",
      "Val_MAE: 0.0355\n",
      "Train_MAE: 0.0301\n",
      "Val_MAE: 0.0184\n",
      "Train_MAE: 0.0140\n",
      "Val_MAE: 0.0236\n",
      "Train_MAE: 0.0184\n",
      "Val_MAE: 0.0217\n",
      "Train_MAE: 0.0180\n",
      "Val_MAE: 0.0148\n",
      "Train_MAE: 0.0104\n",
      "Val_MAE: 0.0324\n",
      "Train_MAE: 0.0273\n",
      "Val_MAE: 0.0179\n",
      "Train_MAE: 0.0129\n",
      "Val_MAE: 0.0224\n",
      "Train_MAE: 0.0193\n",
      "Val_MAE: 0.0139\n",
      "Train_MAE: 0.0093\n",
      "Val_MAE: 0.0148\n",
      "Train_MAE: 0.0109\n",
      "Val_MAE: 0.0277\n",
      "Train_MAE: 0.0247\n",
      "Val_MAE: 0.0154\n",
      "Train_MAE: 0.0117\n",
      "Val_MAE: 0.0136\n",
      "Train_MAE: 0.0079\n",
      "Val_MAE: 0.0152\n",
      "Train_MAE: 0.0107\n",
      "Val_MAE: 0.0125\n",
      "Train_MAE: 0.0077\n",
      "Val_MAE: 0.0132\n",
      "Train_MAE: 0.0088\n",
      "Val_MAE: 0.0161\n",
      "Train_MAE: 0.0106\n",
      "Val_MAE: 0.0153\n",
      "Train_MAE: 0.0130\n",
      "Val_MAE: 0.0209\n",
      "Train_MAE: 0.0160\n",
      "Val_MAE: 0.0214\n",
      "Train_MAE: 0.0157\n",
      "Val_MAE: 0.0119\n",
      "Train_MAE: 0.0074\n",
      "Val_MAE: 0.0142\n",
      "Train_MAE: 0.0097\n",
      "Val_MAE: 0.0113\n",
      "Train_MAE: 0.0065\n",
      "Val_MAE: 0.0114\n",
      "Train_MAE: 0.0062\n",
      "Val_MAE: 0.0131\n",
      "Train_MAE: 0.0076\n",
      "Val_MAE: 0.0116\n",
      "Train_MAE: 0.0076\n",
      "Val_MAE: 0.0418\n",
      "Train_MAE: 0.0371\n",
      "Val_MAE: 0.0145\n",
      "Train_MAE: 0.0107\n",
      "Val_MAE: 0.0115\n",
      "Train_MAE: 0.0057\n",
      "Val_MAE: 0.0161\n",
      "Train_MAE: 0.0098\n",
      "Val_MAE: 0.0180\n",
      "Train_MAE: 0.0132\n",
      "Val_MAE: 0.0152\n",
      "Train_MAE: 0.0105\n",
      "Val_MAE: 0.0149\n",
      "Train_MAE: 0.0089\n",
      "Val_MAE: 0.0134\n",
      "Train_MAE: 0.0077\n",
      "Val_MAE: 0.0157\n",
      "Train_MAE: 0.0102\n",
      "Val_MAE: 0.0122\n",
      "Train_MAE: 0.0065\n",
      "Val_MAE: 0.0221\n",
      "Train_MAE: 0.0182\n",
      "Val_MAE: 0.0127\n",
      "Train_MAE: 0.0066\n",
      "Val_MAE: 0.0117\n",
      "Train_MAE: 0.0058\n",
      "Val_MAE: 0.0116\n",
      "Train_MAE: 0.0050\n",
      "Val_MAE: 0.0108\n",
      "Train_MAE: 0.0045\n",
      "Val_MAE: 0.0117\n",
      "Train_MAE: 0.0059\n",
      "Val_MAE: 0.0139\n",
      "Train_MAE: 0.0074\n",
      "Val_MAE: 0.0135\n",
      "Train_MAE: 0.0061\n",
      "Val_MAE: 0.0114\n",
      "Train_MAE: 0.0046\n",
      "Val_MAE: 0.0123\n",
      "Train_MAE: 0.0056\n",
      "Val_MAE: 0.0120\n",
      "Train_MAE: 0.0057\n",
      "Val_MAE: 0.0167\n",
      "Train_MAE: 0.0122\n",
      "Val_MAE: 0.0112\n",
      "Train_MAE: 0.0052\n",
      "Val_MAE: 0.0136\n",
      "Train_MAE: 0.0067\n",
      "Val_MAE: 0.0125\n",
      "Train_MAE: 0.0065\n",
      "Val_MAE: 0.0131\n",
      "Train_MAE: 0.0064\n",
      "Val_MAE: 0.0133\n",
      "Train_MAE: 0.0060\n",
      "Val_MAE: 0.0132\n",
      "Train_MAE: 0.0067\n",
      "Val_MAE: 0.0136\n",
      "Train_MAE: 0.0075\n",
      "Val_MAE: 0.0131\n",
      "Train_MAE: 0.0064\n",
      "Val_MAE: 0.0138\n",
      "Train_MAE: 0.0076\n",
      "Val_MAE: 0.0111\n",
      "Train_MAE: 0.0042\n",
      "Val_MAE: 0.0129\n",
      "Train_MAE: 0.0055\n",
      "Val_MAE: 0.0163\n",
      "Train_MAE: 0.0083\n",
      "Val_MAE: 0.0131\n",
      "Train_MAE: 0.0067\n",
      "Val_MAE: 0.0103\n",
      "Train_MAE: 0.0036\n",
      "Val_MAE: 0.0148\n",
      "Train_MAE: 0.0091\n",
      "Val_MAE: 0.0136\n",
      "Train_MAE: 0.0077\n",
      "Val_MAE: 0.0107\n",
      "Train_MAE: 0.0033\n",
      "Val_MAE: 0.0112\n",
      "Train_MAE: 0.0043\n",
      "Val_MAE: 0.0121\n",
      "Train_MAE: 0.0046\n",
      "Val_MAE: 0.0132\n",
      "Train_MAE: 0.0074\n",
      "Val_MAE: 0.0104\n",
      "Train_MAE: 0.0031\n",
      "Val_MAE: 0.0100\n",
      "Train_MAE: 0.0028\n",
      "Val_MAE: 0.0128\n",
      "Train_MAE: 0.0053\n",
      "Val_MAE: 0.0128\n",
      "Train_MAE: 0.0069\n",
      "Val_MAE: 0.0111\n",
      "Train_MAE: 0.0040\n",
      "Val_MAE: 0.0128\n",
      "Train_MAE: 0.0065\n",
      "Val_MAE: 0.0121\n",
      "Train_MAE: 0.0043\n",
      "Val_MAE: 0.0112\n",
      "Train_MAE: 0.0042\n",
      "Val_MAE: 0.0130\n",
      "Train_MAE: 0.0052\n",
      "Val_MAE: 0.0117\n",
      "Train_MAE: 0.0041\n",
      "Val_MAE: 0.0111\n",
      "Train_MAE: 0.0041\n",
      "Val_MAE: 0.0121\n",
      "Train_MAE: 0.0056\n",
      "Test MAE: 0.008180568783970202\n",
      "Time taken (s): 17175.51213812828\n"
     ]
    }
   ],
   "source": [
    "#!g1.1\n",
    "import alignn\n",
    "from alignn import train_folder\n",
    "train_folder.train_for_folder(root_dir=\"data/poscar-2\", epochs=160, config_name=\"data/config.json\", output_dir=\"trial9\")"
   ]
  },
  {
   "cell_type": "code",
   "execution_count": 71,
   "id": "cf9f6be8",
   "metadata": {
    "cellId": "lg8s0it09rr3r01hnu3t"
   },
   "outputs": [
    {
     "data": {
      "text/plain": [
       "ALIGNN(\n",
       "  (atom_embedding): MLPLayer(\n",
       "    (layer): Sequential(\n",
       "      (0): Linear(in_features=92, out_features=256, bias=True)\n",
       "      (1): BatchNorm1d(256, eps=1e-05, momentum=0.1, affine=True, track_running_stats=True)\n",
       "      (2): SiLU()\n",
       "    )\n",
       "  )\n",
       "  (edge_embedding): Sequential(\n",
       "    (0): RBFExpansion()\n",
       "    (1): MLPLayer(\n",
       "      (layer): Sequential(\n",
       "        (0): Linear(in_features=80, out_features=64, bias=True)\n",
       "        (1): BatchNorm1d(64, eps=1e-05, momentum=0.1, affine=True, track_running_stats=True)\n",
       "        (2): SiLU()\n",
       "      )\n",
       "    )\n",
       "    (2): MLPLayer(\n",
       "      (layer): Sequential(\n",
       "        (0): Linear(in_features=64, out_features=256, bias=True)\n",
       "        (1): BatchNorm1d(256, eps=1e-05, momentum=0.1, affine=True, track_running_stats=True)\n",
       "        (2): SiLU()\n",
       "      )\n",
       "    )\n",
       "  )\n",
       "  (angle_embedding): Sequential(\n",
       "    (0): RBFExpansion()\n",
       "    (1): MLPLayer(\n",
       "      (layer): Sequential(\n",
       "        (0): Linear(in_features=40, out_features=64, bias=True)\n",
       "        (1): BatchNorm1d(64, eps=1e-05, momentum=0.1, affine=True, track_running_stats=True)\n",
       "        (2): SiLU()\n",
       "      )\n",
       "    )\n",
       "    (2): MLPLayer(\n",
       "      (layer): Sequential(\n",
       "        (0): Linear(in_features=64, out_features=256, bias=True)\n",
       "        (1): BatchNorm1d(256, eps=1e-05, momentum=0.1, affine=True, track_running_stats=True)\n",
       "        (2): SiLU()\n",
       "      )\n",
       "    )\n",
       "  )\n",
       "  (alignn_layers): ModuleList(\n",
       "    (0): ALIGNNConv(\n",
       "      (node_update): EdgeGatedGraphConv(\n",
       "        (src_gate): Linear(in_features=256, out_features=256, bias=True)\n",
       "        (dst_gate): Linear(in_features=256, out_features=256, bias=True)\n",
       "        (edge_gate): Linear(in_features=256, out_features=256, bias=True)\n",
       "        (bn_edges): BatchNorm1d(256, eps=1e-05, momentum=0.1, affine=True, track_running_stats=True)\n",
       "        (src_update): Linear(in_features=256, out_features=256, bias=True)\n",
       "        (dst_update): Linear(in_features=256, out_features=256, bias=True)\n",
       "        (bn_nodes): BatchNorm1d(256, eps=1e-05, momentum=0.1, affine=True, track_running_stats=True)\n",
       "      )\n",
       "      (edge_update): EdgeGatedGraphConv(\n",
       "        (src_gate): Linear(in_features=256, out_features=256, bias=True)\n",
       "        (dst_gate): Linear(in_features=256, out_features=256, bias=True)\n",
       "        (edge_gate): Linear(in_features=256, out_features=256, bias=True)\n",
       "        (bn_edges): BatchNorm1d(256, eps=1e-05, momentum=0.1, affine=True, track_running_stats=True)\n",
       "        (src_update): Linear(in_features=256, out_features=256, bias=True)\n",
       "        (dst_update): Linear(in_features=256, out_features=256, bias=True)\n",
       "        (bn_nodes): BatchNorm1d(256, eps=1e-05, momentum=0.1, affine=True, track_running_stats=True)\n",
       "      )\n",
       "    )\n",
       "    (1): ALIGNNConv(\n",
       "      (node_update): EdgeGatedGraphConv(\n",
       "        (src_gate): Linear(in_features=256, out_features=256, bias=True)\n",
       "        (dst_gate): Linear(in_features=256, out_features=256, bias=True)\n",
       "        (edge_gate): Linear(in_features=256, out_features=256, bias=True)\n",
       "        (bn_edges): BatchNorm1d(256, eps=1e-05, momentum=0.1, affine=True, track_running_stats=True)\n",
       "        (src_update): Linear(in_features=256, out_features=256, bias=True)\n",
       "        (dst_update): Linear(in_features=256, out_features=256, bias=True)\n",
       "        (bn_nodes): BatchNorm1d(256, eps=1e-05, momentum=0.1, affine=True, track_running_stats=True)\n",
       "      )\n",
       "      (edge_update): EdgeGatedGraphConv(\n",
       "        (src_gate): Linear(in_features=256, out_features=256, bias=True)\n",
       "        (dst_gate): Linear(in_features=256, out_features=256, bias=True)\n",
       "        (edge_gate): Linear(in_features=256, out_features=256, bias=True)\n",
       "        (bn_edges): BatchNorm1d(256, eps=1e-05, momentum=0.1, affine=True, track_running_stats=True)\n",
       "        (src_update): Linear(in_features=256, out_features=256, bias=True)\n",
       "        (dst_update): Linear(in_features=256, out_features=256, bias=True)\n",
       "        (bn_nodes): BatchNorm1d(256, eps=1e-05, momentum=0.1, affine=True, track_running_stats=True)\n",
       "      )\n",
       "    )\n",
       "    (2): ALIGNNConv(\n",
       "      (node_update): EdgeGatedGraphConv(\n",
       "        (src_gate): Linear(in_features=256, out_features=256, bias=True)\n",
       "        (dst_gate): Linear(in_features=256, out_features=256, bias=True)\n",
       "        (edge_gate): Linear(in_features=256, out_features=256, bias=True)\n",
       "        (bn_edges): BatchNorm1d(256, eps=1e-05, momentum=0.1, affine=True, track_running_stats=True)\n",
       "        (src_update): Linear(in_features=256, out_features=256, bias=True)\n",
       "        (dst_update): Linear(in_features=256, out_features=256, bias=True)\n",
       "        (bn_nodes): BatchNorm1d(256, eps=1e-05, momentum=0.1, affine=True, track_running_stats=True)\n",
       "      )\n",
       "      (edge_update): EdgeGatedGraphConv(\n",
       "        (src_gate): Linear(in_features=256, out_features=256, bias=True)\n",
       "        (dst_gate): Linear(in_features=256, out_features=256, bias=True)\n",
       "        (edge_gate): Linear(in_features=256, out_features=256, bias=True)\n",
       "        (bn_edges): BatchNorm1d(256, eps=1e-05, momentum=0.1, affine=True, track_running_stats=True)\n",
       "        (src_update): Linear(in_features=256, out_features=256, bias=True)\n",
       "        (dst_update): Linear(in_features=256, out_features=256, bias=True)\n",
       "        (bn_nodes): BatchNorm1d(256, eps=1e-05, momentum=0.1, affine=True, track_running_stats=True)\n",
       "      )\n",
       "    )\n",
       "    (3): ALIGNNConv(\n",
       "      (node_update): EdgeGatedGraphConv(\n",
       "        (src_gate): Linear(in_features=256, out_features=256, bias=True)\n",
       "        (dst_gate): Linear(in_features=256, out_features=256, bias=True)\n",
       "        (edge_gate): Linear(in_features=256, out_features=256, bias=True)\n",
       "        (bn_edges): BatchNorm1d(256, eps=1e-05, momentum=0.1, affine=True, track_running_stats=True)\n",
       "        (src_update): Linear(in_features=256, out_features=256, bias=True)\n",
       "        (dst_update): Linear(in_features=256, out_features=256, bias=True)\n",
       "        (bn_nodes): BatchNorm1d(256, eps=1e-05, momentum=0.1, affine=True, track_running_stats=True)\n",
       "      )\n",
       "      (edge_update): EdgeGatedGraphConv(\n",
       "        (src_gate): Linear(in_features=256, out_features=256, bias=True)\n",
       "        (dst_gate): Linear(in_features=256, out_features=256, bias=True)\n",
       "        (edge_gate): Linear(in_features=256, out_features=256, bias=True)\n",
       "        (bn_edges): BatchNorm1d(256, eps=1e-05, momentum=0.1, affine=True, track_running_stats=True)\n",
       "        (src_update): Linear(in_features=256, out_features=256, bias=True)\n",
       "        (dst_update): Linear(in_features=256, out_features=256, bias=True)\n",
       "        (bn_nodes): BatchNorm1d(256, eps=1e-05, momentum=0.1, affine=True, track_running_stats=True)\n",
       "      )\n",
       "    )\n",
       "  )\n",
       "  (gcn_layers): ModuleList(\n",
       "    (0): EdgeGatedGraphConv(\n",
       "      (src_gate): Linear(in_features=256, out_features=256, bias=True)\n",
       "      (dst_gate): Linear(in_features=256, out_features=256, bias=True)\n",
       "      (edge_gate): Linear(in_features=256, out_features=256, bias=True)\n",
       "      (bn_edges): BatchNorm1d(256, eps=1e-05, momentum=0.1, affine=True, track_running_stats=True)\n",
       "      (src_update): Linear(in_features=256, out_features=256, bias=True)\n",
       "      (dst_update): Linear(in_features=256, out_features=256, bias=True)\n",
       "      (bn_nodes): BatchNorm1d(256, eps=1e-05, momentum=0.1, affine=True, track_running_stats=True)\n",
       "    )\n",
       "    (1): EdgeGatedGraphConv(\n",
       "      (src_gate): Linear(in_features=256, out_features=256, bias=True)\n",
       "      (dst_gate): Linear(in_features=256, out_features=256, bias=True)\n",
       "      (edge_gate): Linear(in_features=256, out_features=256, bias=True)\n",
       "      (bn_edges): BatchNorm1d(256, eps=1e-05, momentum=0.1, affine=True, track_running_stats=True)\n",
       "      (src_update): Linear(in_features=256, out_features=256, bias=True)\n",
       "      (dst_update): Linear(in_features=256, out_features=256, bias=True)\n",
       "      (bn_nodes): BatchNorm1d(256, eps=1e-05, momentum=0.1, affine=True, track_running_stats=True)\n",
       "    )\n",
       "    (2): EdgeGatedGraphConv(\n",
       "      (src_gate): Linear(in_features=256, out_features=256, bias=True)\n",
       "      (dst_gate): Linear(in_features=256, out_features=256, bias=True)\n",
       "      (edge_gate): Linear(in_features=256, out_features=256, bias=True)\n",
       "      (bn_edges): BatchNorm1d(256, eps=1e-05, momentum=0.1, affine=True, track_running_stats=True)\n",
       "      (src_update): Linear(in_features=256, out_features=256, bias=True)\n",
       "      (dst_update): Linear(in_features=256, out_features=256, bias=True)\n",
       "      (bn_nodes): BatchNorm1d(256, eps=1e-05, momentum=0.1, affine=True, track_running_stats=True)\n",
       "    )\n",
       "    (3): EdgeGatedGraphConv(\n",
       "      (src_gate): Linear(in_features=256, out_features=256, bias=True)\n",
       "      (dst_gate): Linear(in_features=256, out_features=256, bias=True)\n",
       "      (edge_gate): Linear(in_features=256, out_features=256, bias=True)\n",
       "      (bn_edges): BatchNorm1d(256, eps=1e-05, momentum=0.1, affine=True, track_running_stats=True)\n",
       "      (src_update): Linear(in_features=256, out_features=256, bias=True)\n",
       "      (dst_update): Linear(in_features=256, out_features=256, bias=True)\n",
       "      (bn_nodes): BatchNorm1d(256, eps=1e-05, momentum=0.1, affine=True, track_running_stats=True)\n",
       "    )\n",
       "  )\n",
       "  (readout): AvgPooling()\n",
       "  (fc): Linear(in_features=256, out_features=1, bias=True)\n",
       ")"
      ]
     },
     "metadata": {},
     "output_type": "display_data"
    },
    {
     "name": "stderr",
     "output_type": "stream",
     "text": [
      "/kernel/lib/python3.8/site-packages/ml_kernel/kernel.py:872: UserWarning: The following variables cannot be serialized: ALIGNNConfig\n",
      "  warnings.warn(message)\n"
     ]
    }
   ],
   "source": [
    "#!g1.1\n",
    "import requests\n",
    "import os\n",
    "import zipfile\n",
    "from tqdm import tqdm\n",
    "from alignn.models.alignn import ALIGNN, ALIGNNConfig\n",
    "from alignn.utils import BaseSettings\n",
    "from alignn.data import get_torch_dataset\n",
    "from torch.utils.data import DataLoader\n",
    "import tempfile\n",
    "from pydantic.typing import Literal\n",
    "import torch\n",
    "import sys\n",
    "\n",
    "class ALIGNNConfig(BaseSettings):\n",
    "    \"\"\"Hyperparameter schema for jarvisdgl.models.alignn.\"\"\"\n",
    "\n",
    "    name: Literal[\"alignn\"]\n",
    "    alignn_layers: int = 4\n",
    "    gcn_layers: int = 4\n",
    "    atom_input_features: int = 92\n",
    "    edge_input_features: int = 80\n",
    "    triplet_input_features: int = 40\n",
    "    embedding_features: int = 64\n",
    "    hidden_features: int = 256\n",
    "    # fc_layers: int = 1\n",
    "    # fc_features: int = 64\n",
    "    output_features: int = 1\n",
    "\n",
    "    # if link == log, apply `exp` to final outputs\n",
    "    # to constrain predictions to be positive\n",
    "    link: Literal[\"identity\", \"log\", \"logit\"] = \"identity\"\n",
    "    zero_inflated: bool = False\n",
    "    classification: bool = False\n",
    "\n",
    "    class Config:\n",
    "        \"\"\"Configure model settings behavior.\"\"\"\n",
    "\n",
    "        env_prefix = \"jv_model\"\n",
    "\n",
    "# from jarvis.db.jsonutils import loadjson\n",
    "import argparse\n",
    "from jarvis.core.atoms import Atoms\n",
    "from jarvis.core.graphs import Graph\n",
    "from jarvis.db.jsonutils import dumpjson\n",
    "import pandas as pd\n",
    "\n",
    "device=\"cuda:0\"\n",
    "model = ALIGNN(\n",
    "        ALIGNNConfig(name=\"alignn\", output_features=1)\n",
    "    )\n",
    "model.load_state_dict(torch.load(\"trial8/checkpoint_160.pt\")[\"model\"])\n",
    "model.to(device)\n",
    "model.eval()"
   ]
  },
  {
   "cell_type": "code",
   "execution_count": 72,
   "id": "e9df9728",
   "metadata": {
    "cellId": "uq6qmkiayveow1wh9twqtc"
   },
   "outputs": [],
   "source": [
    "#!g1.1\n",
    "def get_multiple_predictions(\n",
    "    atoms_array=[],\n",
    "    cutoff=8,\n",
    "    neighbor_strategy=\"k-nearest\",\n",
    "    max_neighbors=12,\n",
    "    use_canonize=True,\n",
    "    target=\"prop\",\n",
    "    atom_features=\"cgcnn\",\n",
    "    line_graph=True,\n",
    "    workers=4,\n",
    "    filename=\"pred_data.json\",\n",
    "    include_atoms=True,\n",
    "    pin_memory=False,\n",
    "    output_features=1,\n",
    "    batch_size=1,\n",
    "    model=None,\n",
    "    model_name=\"jv_formation_energy_peratom_alignn\",\n",
    "    i_names=None,\n",
    "    print_freq=100,\n",
    "):\n",
    "    \"\"\"Use pretrained model on a number of structures.\"\"\"\n",
    "    # import glob\n",
    "    # atoms_array=[]\n",
    "    # for i in glob.glob(\"alignn/examples/sample_data/*.vasp\"):\n",
    "    #      atoms=Atoms.from_poscar(i)\n",
    "    #      atoms_array.append(atoms)\n",
    "    # get_multiple_predictions(atoms_array=atoms_array)\n",
    "\n",
    "    mem = []\n",
    "    for i, ii in enumerate(atoms_array):\n",
    "        info = {}\n",
    "        info[\"atoms\"] = ii.to_dict()\n",
    "        info[\"prop\"] = -9999  # place-holder only\n",
    "        info[\"jid\"] = i_names[i]\n",
    "        mem.append(info)\n",
    "\n",
    "    if model is None:\n",
    "        try:\n",
    "            model = get_figshare_model(model_name)\n",
    "        except Exception as exp:\n",
    "            raise ValueError(\n",
    "                'Check is the model name exists using \"pretrained.py -h\"', exp\n",
    "            )\n",
    "            pass\n",
    "\n",
    "    # Note cut-off is usually 8 for solids and 5 for molecules\n",
    "    def atoms_to_graph(atoms):\n",
    "        \"\"\"Convert structure dict to DGLGraph.\"\"\"\n",
    "        structure = Atoms.from_dict(atoms)\n",
    "        return Graph.atom_dgl_multigraph(\n",
    "            structure,\n",
    "            cutoff=cutoff,\n",
    "            atom_features=\"atomic_number\",\n",
    "            max_neighbors=max_neighbors,\n",
    "            compute_line_graph=True,\n",
    "            use_canonize=use_canonize,\n",
    "        )\n",
    "\n",
    "    test_data = get_torch_dataset(\n",
    "        dataset=mem,\n",
    "        target=\"prop\",\n",
    "        neighbor_strategy=neighbor_strategy,\n",
    "        atom_features=atom_features,\n",
    "        use_canonize=use_canonize,\n",
    "        line_graph=line_graph,\n",
    "    )\n",
    "\n",
    "    collate_fn = test_data.collate_line_graph\n",
    "    test_loader = DataLoader(\n",
    "        test_data,\n",
    "        batch_size=batch_size,\n",
    "        shuffle=False,\n",
    "        collate_fn=collate_fn,\n",
    "        drop_last=False,\n",
    "        num_workers=workers,\n",
    "        pin_memory=pin_memory,\n",
    "    )\n",
    "\n",
    "    results = []\n",
    "    with torch.no_grad():\n",
    "        ids = test_loader.dataset.ids\n",
    "        for dat, id in zip(test_loader, ids):\n",
    "            g, lg, target = dat\n",
    "            out_data = model([g.to(device), lg.to(device)])\n",
    "            out_data = out_data.cpu().numpy().tolist()\n",
    "            target = target.cpu().numpy().flatten().tolist()\n",
    "            info = {}\n",
    "            info[\"id\"] = id\n",
    "            info[\"pred\"] = out_data\n",
    "            results.append(info)\n",
    "            print_freq = int(print_freq)\n",
    "            if len(results) % print_freq == 0:\n",
    "                print(len(results))\n",
    "    df1 = pd.DataFrame(mem)\n",
    "    df2 = pd.DataFrame(results)\n",
    "    df2[\"jid\"] = df2[\"id\"]\n",
    "    df3 = pd.merge(df1, df2, on=\"jid\")\n",
    "    save = []\n",
    "    for i, ii in df3.iterrows():\n",
    "        info = {}\n",
    "        info[\"id\"] = ii[\"id\"]\n",
    "        info[\"pred\"] = ii[\"pred\"]\n",
    "        save.append(info)\n",
    "\n",
    "    dumpjson(data=save, filename=filename)\n",
    "    return save\n",
    "\n"
   ]
  },
  {
   "cell_type": "code",
   "execution_count": 73,
   "id": "21dd38ed",
   "metadata": {
    "cellId": "ykjyjtx3z7mzqt4m142f1"
   },
   "outputs": [
    {
     "name": "stdout",
     "output_type": "stream",
     "text": [
      "data range -9999 -9999\n"
     ]
    },
    {
     "name": "stderr",
     "output_type": "stream",
     "text": [
      "100%|██████████| 2967/2967 [07:34<00:00,  6.52it/s]\n"
     ]
    },
    {
     "name": "stdout",
     "output_type": "stream",
     "text": [
      "building line graphs\n"
     ]
    },
    {
     "name": "stderr",
     "output_type": "stream",
     "text": [
      "100%|██████████| 2967/2967 [00:50<00:00, 58.35it/s]\n"
     ]
    },
    {
     "name": "stdout",
     "output_type": "stream",
     "text": [
      "100\n",
      "200\n",
      "300\n",
      "400\n",
      "500\n",
      "600\n",
      "700\n",
      "800\n",
      "900\n",
      "1000\n",
      "1100\n",
      "1200\n",
      "1300\n",
      "1400\n",
      "1500\n",
      "1600\n",
      "1700\n",
      "1800\n",
      "1900\n",
      "2000\n",
      "2100\n",
      "2200\n",
      "2300\n",
      "2400\n",
      "2500\n",
      "2600\n",
      "2700\n",
      "2800\n",
      "2900\n",
      "Making df\n",
      "Saving df\n"
     ]
    }
   ],
   "source": [
    "#!g1.1\n",
    "import glob\n",
    "atoms_array=[]\n",
    "names = []\n",
    "for i in glob.glob(\"poscar_private/*.vasp\"):\n",
    "    atoms=Atoms.from_poscar(i)\n",
    "    atoms_array.append(atoms)\n",
    "    names.append(i[15:-5])\n",
    "saved = get_multiple_predictions(atoms_array=atoms_array, model=model, i_names=names)\n",
    "\n",
    "print(\"Making df\")\n",
    "df = pd.DataFrame(saved)\n",
    "df = df.rename(columns={\"pred\":\"predictions\"})\n",
    "print(\"Saving df\")\n",
    "df.to_csv(\"nnfromali_8.csv\", index=False)"
   ]
  },
  {
   "cell_type": "code",
   "execution_count": null,
   "id": "3f18f912",
   "metadata": {
    "cellId": "1w0bp7gy7p4inpgf0vu8r19"
   },
   "outputs": [],
   "source": [
    "#!g1.1\n"
   ]
  }
 ],
 "metadata": {
  "kernelspec": {
   "display_name": "Yandex DataSphere Kernel",
   "language": "python",
   "name": "python3"
  },
  "language_info": {
   "codemirror_mode": {
    "name": "ipython",
    "version": 3
   },
   "file_extension": ".py",
   "mimetype": "text/x-python",
   "name": "python",
   "nbconvert_exporter": "python",
   "pygments_lexer": "ipython3",
   "version": "3.7.7"
  },
  "notebookId": "8fe0548b-8042-4a8c-8775-a91c9314050e",
  "notebookPath": "Untitled.ipynb"
 },
 "nbformat": 4,
 "nbformat_minor": 5
}
