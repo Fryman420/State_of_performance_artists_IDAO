{
 "cells": [
  {
   "cell_type": "code",
   "execution_count": 12,
   "id": "759e6cba",
   "metadata": {},
   "outputs": [],
   "source": [
    "import numpy as np\n",
    "import matplotlib.pyplot as plt\n",
    "import os\n",
    "import pandas as pd\n",
    "from pymatgen.core import Structure\n",
    "import json\n",
    "from pathlib import Path\n",
    "from pymatgen.io.cif import CifWriter\n",
    "from pymatgen.io.vasp import inputs\n",
    "from tqdm.notebook import tqdm "
   ]
  },
  {
   "cell_type": "code",
   "execution_count": 13,
   "id": "85398b1c",
   "metadata": {},
   "outputs": [],
   "source": [
    "path_public = './data/dichalcogenides_public/'\n",
    "path_private = './data/dichalcogenides_private/'"
   ]
  },
  {
   "cell_type": "code",
   "execution_count": 14,
   "id": "c7a18ab5",
   "metadata": {},
   "outputs": [
    {
     "data": {
      "application/vnd.jupyter.widget-view+json": {
       "model_id": "7b937bcb71e34891ac336261d25dedd5",
       "version_major": 2,
       "version_minor": 0
      },
      "text/plain": [
       "  0%|          | 0/2966 [00:00<?, ?it/s]"
      ]
     },
     "metadata": {},
     "output_type": "display_data"
    }
   ],
   "source": [
    "path_to = './data/poscar_public/'\n",
    "for it in tqdm(os.listdir(path_public + 'structures/')):\n",
    "    with open(path_public + 'structures/' + it, \"r\") as f:\n",
    "        structure = Structure.from_dict(json.load(f))\n",
    "    structure.to(fmt='poscar', filename = path_to + it[:-5] + '.vasp')"
   ]
  },
  {
   "cell_type": "code",
   "execution_count": 15,
   "id": "248f61a4",
   "metadata": {},
   "outputs": [
    {
     "data": {
      "application/vnd.jupyter.widget-view+json": {
       "model_id": "ab33d7c6f81f4e4cbbecdd7048383aed",
       "version_major": 2,
       "version_minor": 0
      },
      "text/plain": [
       "  0%|          | 0/2967 [00:00<?, ?it/s]"
      ]
     },
     "metadata": {},
     "output_type": "display_data"
    }
   ],
   "source": [
    "path_to = './data/poscar_private/'\n",
    "for it in tqdm(os.listdir(path_private + 'structures/')):\n",
    "    with open(path_private + 'structures/' + it, \"r\") as f:\n",
    "        structure = Structure.from_dict(json.load(f))\n",
    "    structure.to(fmt='poscar', filename = path_to + it[:-5] + '.vasp')"
   ]
  },
  {
   "cell_type": "code",
   "execution_count": null,
   "id": "fe6d2eba",
   "metadata": {},
   "outputs": [],
   "source": []
  }
 ],
 "metadata": {
  "kernelspec": {
   "display_name": "Python 3",
   "language": "python",
   "name": "python3"
  },
  "language_info": {
   "codemirror_mode": {
    "name": "ipython",
    "version": 3
   },
   "file_extension": ".py",
   "mimetype": "text/x-python",
   "name": "python",
   "nbconvert_exporter": "python",
   "pygments_lexer": "ipython3",
   "version": "3.9.5"
  }
 },
 "nbformat": 4,
 "nbformat_minor": 5
}
